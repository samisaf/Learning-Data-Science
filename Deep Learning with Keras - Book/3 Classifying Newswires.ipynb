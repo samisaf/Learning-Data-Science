{
 "cells": [
  {
   "cell_type": "code",
   "execution_count": 4,
   "metadata": {},
   "outputs": [],
   "source": [
    "import numpy as np\n",
    "old = np.load;np.load = lambda *a,**k: old(*a,**k,allow_pickle=True)\n",
    "\n",
    "from keras.datasets import reuters\n",
    "(train_data, train_labels), (test_data, test_labels) = reuters.load_data(num_words=10000)\n",
    "\n",
    "np.load = old;del(old)"
   ]
  },
  {
   "cell_type": "code",
   "execution_count": 6,
   "metadata": {},
   "outputs": [
    {
     "name": "stdout",
     "output_type": "stream",
     "text": [
      "Downloading data from https://s3.amazonaws.com/text-datasets/reuters_word_index.json\n",
      "557056/550378 [==============================] - 0s 0us/step\n"
     ]
    },
    {
     "data": {
      "text/plain": [
       "'? ? ? said as a result of its december acquisition of space co it expects earnings per share in 1987 of 1 15 to 1 30 dlrs per share up from 70 cts in 1986 the company said pretax net should rise to nine to 10 mln dlrs from six mln dlrs in 1986 and rental operation revenues to 19 to 22 mln dlrs from 12 5 mln dlrs it said cash flow per share this year should be 2 50 to three dlrs reuter 3'"
      ]
     },
     "execution_count": 6,
     "metadata": {},
     "output_type": "execute_result"
    }
   ],
   "source": [
    "# decoding newswires back to ext\n",
    "word_index = reuters.get_word_index()\n",
    "reverse_word_index = dict([(value, key) for (key, value) in word_index.items()])\n",
    "\n",
    "def decode(newswire):\n",
    "    return ' '.join(reverse_word_index.get(i-3, '?') for i in newswire)\n",
    "\n",
    "decode(train_data[0])"
   ]
  },
  {
   "cell_type": "code",
   "execution_count": 11,
   "metadata": {},
   "outputs": [
    {
     "name": "stdout",
     "output_type": "stream",
     "text": [
      "(8982, 10000)\n",
      "(2246, 10000)\n"
     ]
    }
   ],
   "source": [
    "# encoding the data\n",
    "def vectorize_sequences(sequences, dimension=10000):\n",
    "    result = np.zeros((len(sequences), dimension))\n",
    "    for i, seq in enumerate(sequences):\n",
    "        result[i, seq] = 1\n",
    "    return result\n",
    "\n",
    "X_train = vectorize_sequences(train_data)\n",
    "X_test = vectorize_sequences(test_data)\n",
    "\n",
    "print(X_train.shape)\n",
    "print(X_test.shape)"
   ]
  },
  {
   "cell_type": "code",
   "execution_count": 26,
   "metadata": {},
   "outputs": [
    {
     "name": "stdout",
     "output_type": "stream",
     "text": [
      "[ 3  4  3 ... 25  3 25]\n",
      "(8982, 46)\n",
      "[[0. 0. 0. ... 0. 0. 0.]\n",
      " [0. 0. 0. ... 0. 0. 0.]\n",
      " [0. 0. 0. ... 0. 0. 0.]\n",
      " ...\n",
      " [0. 0. 0. ... 0. 0. 0.]\n",
      " [0. 0. 0. ... 0. 0. 0.]\n",
      " [0. 0. 0. ... 0. 0. 0.]]\n"
     ]
    }
   ],
   "source": [
    "# encoding labels\n",
    "print(train_labels)\n",
    "\n",
    "from keras.utils.np_utils import to_categorical\n",
    "y_train = to_categorical(train_labels)\n",
    "y_test = to_categorical(test_labels)\n",
    "\n",
    "# alternatively y_train=vectorize_sequences(train_labels, dimension=46)\n",
    "\n",
    "print(y_train.shape)\n",
    "print(y_train)"
   ]
  },
  {
   "cell_type": "code",
   "execution_count": 44,
   "metadata": {},
   "outputs": [],
   "source": [
    "# model definition\n",
    "from keras import models, layers\n",
    "model = models.Sequential()\n",
    "model.add(layers.Dense(64, activation='relu', input_shape=(10000,)))\n",
    "model.add(layers.Dense(64, activation='relu'))\n",
    "model.add(layers.Dense(46, activation='softmax'))\n",
    "\n",
    "# compiling the model\n",
    "model.compile(optimizer='rmsprop', loss='categorical_crossentropy', metrics=['acc'])\n",
    "\n",
    "# setting aside a validation set\n",
    "def split(seq, at):\n",
    "    return seq[:at], seq[at:]\n",
    "\n",
    "X_val, X_train_p = split(X_train, 1000)\n",
    "y_val, y_train_p = split(y_train, 1000)"
   ]
  },
  {
   "cell_type": "code",
   "execution_count": 46,
   "metadata": {},
   "outputs": [
    {
     "name": "stdout",
     "output_type": "stream",
     "text": [
      "Train on 7982 samples, validate on 1000 samples\n",
      "Epoch 1/20\n",
      "7982/7982 [==============================] - 1s 129us/step - loss: 0.1125 - acc: 0.9585 - val_loss: 1.0888 - val_acc: 0.7940\n",
      "Epoch 2/20\n",
      "7982/7982 [==============================] - 1s 129us/step - loss: 0.1070 - acc: 0.9590 - val_loss: 1.1299 - val_acc: 0.7950\n",
      "Epoch 3/20\n",
      "7982/7982 [==============================] - 1s 129us/step - loss: 0.1076 - acc: 0.9597 - val_loss: 1.1341 - val_acc: 0.7900\n",
      "Epoch 4/20\n",
      "7982/7982 [==============================] - 1s 129us/step - loss: 0.1107 - acc: 0.9564 - val_loss: 1.1234 - val_acc: 0.7880\n",
      "Epoch 5/20\n",
      "7982/7982 [==============================] - 1s 129us/step - loss: 0.1033 - acc: 0.9588 - val_loss: 1.1538 - val_acc: 0.7890\n",
      "Epoch 6/20\n",
      "7982/7982 [==============================] - 1s 129us/step - loss: 0.1042 - acc: 0.9563 - val_loss: 1.2321 - val_acc: 0.7790\n",
      "Epoch 7/20\n",
      "7982/7982 [==============================] - 1s 128us/step - loss: 0.1023 - acc: 0.9572 - val_loss: 1.1419 - val_acc: 0.7990\n",
      "Epoch 8/20\n",
      "7982/7982 [==============================] - 1s 128us/step - loss: 0.0980 - acc: 0.9593 - val_loss: 1.2423 - val_acc: 0.7770\n",
      "Epoch 9/20\n",
      "7982/7982 [==============================] - 1s 129us/step - loss: 0.1023 - acc: 0.9595 - val_loss: 1.1808 - val_acc: 0.7880\n",
      "Epoch 10/20\n",
      "7982/7982 [==============================] - 1s 129us/step - loss: 0.0968 - acc: 0.9585 - val_loss: 1.2681 - val_acc: 0.7850\n",
      "Epoch 11/20\n",
      "7982/7982 [==============================] - 1s 131us/step - loss: 0.0985 - acc: 0.9585 - val_loss: 1.1795 - val_acc: 0.7990\n",
      "Epoch 12/20\n",
      "7982/7982 [==============================] - 1s 128us/step - loss: 0.0959 - acc: 0.9593 - val_loss: 1.2099 - val_acc: 0.7880\n",
      "Epoch 13/20\n",
      "7982/7982 [==============================] - 1s 127us/step - loss: 0.0978 - acc: 0.9588 - val_loss: 1.2007 - val_acc: 0.7900\n",
      "Epoch 14/20\n",
      "7982/7982 [==============================] - 1s 128us/step - loss: 0.0970 - acc: 0.9602 - val_loss: 1.2847 - val_acc: 0.7780\n",
      "Epoch 15/20\n",
      "7982/7982 [==============================] - 1s 127us/step - loss: 0.0964 - acc: 0.9594 - val_loss: 1.2351 - val_acc: 0.7890\n",
      "Epoch 16/20\n",
      "7982/7982 [==============================] - 1s 128us/step - loss: 0.0956 - acc: 0.9600 - val_loss: 1.2232 - val_acc: 0.7970\n",
      "Epoch 17/20\n",
      "7982/7982 [==============================] - 1s 128us/step - loss: 0.0944 - acc: 0.9597 - val_loss: 1.2291 - val_acc: 0.7980\n",
      "Epoch 18/20\n",
      "7982/7982 [==============================] - 1s 128us/step - loss: 0.0914 - acc: 0.9599 - val_loss: 1.2244 - val_acc: 0.7860\n",
      "Epoch 19/20\n",
      "7982/7982 [==============================] - 1s 128us/step - loss: 0.0940 - acc: 0.9585 - val_loss: 1.2239 - val_acc: 0.7920\n",
      "Epoch 20/20\n",
      "7982/7982 [==============================] - 1s 128us/step - loss: 0.0900 - acc: 0.9590 - val_loss: 1.2876 - val_acc: 0.7740\n",
      "CPU times: user 13.8 s, sys: 6.17 s, total: 20 s\n",
      "Wall time: 20.6 s\n"
     ]
    }
   ],
   "source": [
    "# training the model\n",
    "%time history = model.fit(X_train_p, y_train_p, epochs=20, batch_size=512, validation_data=(X_val, y_val))"
   ]
  },
  {
   "cell_type": "code",
   "execution_count": 50,
   "metadata": {},
   "outputs": [
    {
     "data": {
      "text/plain": [
       "{'val_loss': [1.0888455066680909,\n",
       "  1.129935311317444,\n",
       "  1.1340545988082886,\n",
       "  1.1234179668426514,\n",
       "  1.1538491115570069,\n",
       "  1.2320846462249755,\n",
       "  1.1418742828369142,\n",
       "  1.2422743072509765,\n",
       "  1.1808211069107055,\n",
       "  1.2680802040100099,\n",
       "  1.179520887374878,\n",
       "  1.2098861341476441,\n",
       "  1.2007069540023805,\n",
       "  1.2847127714157105,\n",
       "  1.2350819911956787,\n",
       "  1.2231952772140502,\n",
       "  1.229095458984375,\n",
       "  1.2243659925460815,\n",
       "  1.223929970741272,\n",
       "  1.28755287361145],\n",
       " 'val_acc': [0.7939999990463257,\n",
       "  0.7949999918937684,\n",
       "  0.7900000123977661,\n",
       "  0.7879999856948853,\n",
       "  0.7889999942779541,\n",
       "  0.7789999856948853,\n",
       "  0.7989999966621399,\n",
       "  0.7769999976158142,\n",
       "  0.7879999942779541,\n",
       "  0.7849999856948853,\n",
       "  0.7990000100135803,\n",
       "  0.7879999904632569,\n",
       "  0.7900000076293945,\n",
       "  0.7779999928474426,\n",
       "  0.7889999856948853,\n",
       "  0.7970000100135803,\n",
       "  0.7979999966621399,\n",
       "  0.7860000014305115,\n",
       "  0.7919999966621399,\n",
       "  0.773999988079071],\n",
       " 'loss': [0.11253939026864482,\n",
       "  0.10698078573870198,\n",
       "  0.10759720596058032,\n",
       "  0.11069917257299282,\n",
       "  0.10328254858052871,\n",
       "  0.10419424438993305,\n",
       "  0.10232078671769014,\n",
       "  0.09800225183035431,\n",
       "  0.10227245343856063,\n",
       "  0.09675701419733963,\n",
       "  0.09851935874382316,\n",
       "  0.09591653190909756,\n",
       "  0.09775829270941307,\n",
       "  0.0970223347619792,\n",
       "  0.09636286321296575,\n",
       "  0.09562296786237498,\n",
       "  0.09441080466528878,\n",
       "  0.0913854643303002,\n",
       "  0.09396041356973617,\n",
       "  0.08996553592471604],\n",
       " 'acc': [0.9585316961076259,\n",
       "  0.9590328236445841,\n",
       "  0.959659233558629,\n",
       "  0.956401904568401,\n",
       "  0.9587822608617994,\n",
       "  0.9562766233711606,\n",
       "  0.9571535951868391,\n",
       "  0.959283386531912,\n",
       "  0.9595339503003911,\n",
       "  0.958531695913474,\n",
       "  0.9585316960180174,\n",
       "  0.9592833877117585,\n",
       "  0.9587822606676475,\n",
       "  0.9601603614838911,\n",
       "  0.9594086704771491,\n",
       "  0.9600350798983468,\n",
       "  0.959659233558629,\n",
       "  0.959909796057653,\n",
       "  0.9585316961076259,\n",
       "  0.9590328239432794]}"
      ]
     },
     "execution_count": 50,
     "metadata": {},
     "output_type": "execute_result"
    }
   ],
   "source": [
    "history.history"
   ]
  },
  {
   "cell_type": "code",
   "execution_count": 59,
   "metadata": {},
   "outputs": [
    {
     "data": {
      "text/plain": [
       "[<matplotlib.lines.Line2D at 0x7f6d227ccb00>]"
      ]
     },
     "execution_count": 59,
     "metadata": {},
     "output_type": "execute_result"
    },
    {
     "data": {
      "image/png": "[encoded data removed]",
      "text/plain": [
       "<Figure size 432x288 with 1 Axes>"
      ]
     },
     "metadata": {
      "needs_background": "light"
     },
     "output_type": "display_data"
    }
   ],
   "source": [
    "from matplotlib import pyplot as plt\n",
    "acc = history.history['acc']\n",
    "val_acc = history.history['val_acc']\n",
    "\n",
    "plt.plot(acc, 'b')\n",
    "plt.plot(val_acc, 'bo')"
   ]
  },
  {
   "cell_type": "code",
   "execution_count": 60,
   "metadata": {},
   "outputs": [
    {
     "name": "stdout",
     "output_type": "stream",
     "text": [
      "Epoch 1/9\n",
      "8982/8982 [==============================] - 2s 184us/step - loss: 2.6809 - acc: 0.5049\n",
      "Epoch 2/9\n",
      "8982/8982 [==============================] - 1s 120us/step - loss: 1.4175 - acc: 0.7070\n",
      "Epoch 3/9\n",
      "8982/8982 [==============================] - 1s 120us/step - loss: 1.0252 - acc: 0.7853\n",
      "Epoch 4/9\n",
      "8982/8982 [==============================] - 1s 119us/step - loss: 0.7960 - acc: 0.8343\n",
      "Epoch 5/9\n",
      "8982/8982 [==============================] - 1s 119us/step - loss: 0.6293 - acc: 0.8681\n",
      "Epoch 6/9\n",
      "8982/8982 [==============================] - 1s 119us/step - loss: 0.5042 - acc: 0.8931\n",
      "Epoch 7/9\n",
      "8982/8982 [==============================] - 1s 118us/step - loss: 0.4051 - acc: 0.9156\n",
      "Epoch 8/9\n",
      "8982/8982 [==============================] - 1s 118us/step - loss: 0.3341 - acc: 0.9300\n",
      "Epoch 9/9\n",
      "8982/8982 [==============================] - 1s 119us/step - loss: 0.2790 - acc: 0.9391\n",
      "2246/2246 [==============================] - 0s 110us/step\n"
     ]
    }
   ],
   "source": [
    "# retraining the model from scratch\n",
    "# model definition\n",
    "from keras import models, layers\n",
    "model = models.Sequential()\n",
    "model.add(layers.Dense(64, activation='relu', input_shape=(10000,)))\n",
    "model.add(layers.Dense(64, activation='relu'))\n",
    "model.add(layers.Dense(46, activation='softmax'))\n",
    "\n",
    "# compiling the model\n",
    "model.compile(optimizer='rmsprop', loss='categorical_crossentropy', metrics=['acc'])\n",
    "\n",
    "model.fit(X_train, y_train, epochs=9, batch_size=512)\n",
    "\n",
    "result = model.evaluate(X_test, y_test)"
   ]
  },
  {
   "cell_type": "code",
   "execution_count": 63,
   "metadata": {},
   "outputs": [
    {
     "name": "stdout",
     "output_type": "stream",
     "text": [
      "['loss', 'acc']\n",
      "[0.9640878832775466, 0.7894033838199487]\n"
     ]
    }
   ],
   "source": [
    "print(model.metrics_names)\n",
    "print(result)"
   ]
  },
  {
   "cell_type": "code",
   "execution_count": 71,
   "metadata": {},
   "outputs": [
    {
     "name": "stdout",
     "output_type": "stream",
     "text": [
      "[ 3 10  1 ...  3  4  1]\n"
     ]
    }
   ],
   "source": [
    "predictions = model.predict(X_test)\n",
    "print(np.argmax(predictions, axis=1))"
   ]
  },
  {
   "cell_type": "code",
   "execution_count": null,
   "metadata": {},
   "outputs": [],
   "source": []
  },
  {
   "cell_type": "code",
   "execution_count": 80,
   "metadata": {},
   "outputs": [],
   "source": [
    "from sklearn.linear_model import LogisticRegression\n",
    "logistic = LogisticRegression().fit(X_train, train_labels)"
   ]
  },
  {
   "cell_type": "code",
   "execution_count": 82,
   "metadata": {},
   "outputs": [
    {
     "data": {
      "text/plain": [
       "0.9668225339568025"
      ]
     },
     "execution_count": 82,
     "metadata": {},
     "output_type": "execute_result"
    }
   ],
   "source": [
    "logistic.score(X_train, train_labels)"
   ]
  },
  {
   "cell_type": "code",
   "execution_count": 83,
   "metadata": {},
   "outputs": [
    {
     "data": {
      "text/plain": [
       "0.7978628673196795"
      ]
     },
     "execution_count": 83,
     "metadata": {},
     "output_type": "execute_result"
    }
   ],
   "source": [
    "logistic.score(X_test, test_labels)"
   ]
  },
  {
   "cell_type": "code",
   "execution_count": null,
   "metadata": {},
   "outputs": [],
   "source": []
  }
 ],
 "metadata": {
  "kernelspec": {
   "display_name": "Python 3",
   "language": "python",
   "name": "python3"
  },
  "language_info": {
   "codemirror_mode": {
    "name": "ipython",
    "version": 3
   },
   "file_extension": ".py",
   "mimetype": "text/x-python",
   "name": "python",
   "nbconvert_exporter": "python",
   "pygments_lexer": "ipython3",
   "version": "3.7.2"
  }
 },
 "nbformat": 4,
 "nbformat_minor": 2
}
