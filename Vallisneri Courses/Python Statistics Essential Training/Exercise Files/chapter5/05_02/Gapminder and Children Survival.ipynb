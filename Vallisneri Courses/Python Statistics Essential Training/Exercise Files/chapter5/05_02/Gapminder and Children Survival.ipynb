{
 "cells": [
  {
   "cell_type": "markdown",
   "metadata": {},
   "source": [
    "# Using Gapminder Data to Examine Survival for Children"
   ]
  },
  {
   "cell_type": "code",
   "execution_count": 10,
   "metadata": {},
   "outputs": [],
   "source": [
    "import math\n",
    "import numpy as np\n",
    "import pandas as pd\n",
    "import matplotlib\n",
    "import matplotlib.pyplot as plt\n",
    "\n",
    "import statsmodels\n",
    "import statsmodels.api as sm\n",
    "import statsmodels.formula.api as smf\n",
    "\n",
    "import seaborn as sns\n",
    "import altair as alt\n",
    "\n",
    "\n",
    "%matplotlib inline\n",
    "%config InlineBackend.figure_format='retina'"
   ]
  },
  {
   "cell_type": "code",
   "execution_count": 4,
   "metadata": {},
   "outputs": [
    {
     "data": {
      "text/html": [
       "<div>\n",
       "<style scoped>\n",
       "    .dataframe tbody tr th:only-of-type {\n",
       "        vertical-align: middle;\n",
       "    }\n",
       "\n",
       "    .dataframe tbody tr th {\n",
       "        vertical-align: top;\n",
       "    }\n",
       "\n",
       "    .dataframe thead th {\n",
       "        text-align: right;\n",
       "    }\n",
       "</style>\n",
       "<table border=\"1\" class=\"dataframe\">\n",
       "  <thead>\n",
       "    <tr style=\"text-align: right;\">\n",
       "      <th></th>\n",
       "      <th>country</th>\n",
       "      <th>year</th>\n",
       "      <th>region</th>\n",
       "      <th>population</th>\n",
       "      <th>life_expectancy</th>\n",
       "      <th>age5_surviving</th>\n",
       "      <th>babies_per_woman</th>\n",
       "      <th>gdp_per_capita</th>\n",
       "      <th>gdp_per_day</th>\n",
       "    </tr>\n",
       "  </thead>\n",
       "  <tbody>\n",
       "    <tr>\n",
       "      <td>0</td>\n",
       "      <td>Afghanistan</td>\n",
       "      <td>1800</td>\n",
       "      <td>Asia</td>\n",
       "      <td>3280000.0</td>\n",
       "      <td>28.21</td>\n",
       "      <td>53.142</td>\n",
       "      <td>7.0</td>\n",
       "      <td>603.0</td>\n",
       "      <td>1.650924</td>\n",
       "    </tr>\n",
       "    <tr>\n",
       "      <td>1</td>\n",
       "      <td>Afghanistan</td>\n",
       "      <td>1810</td>\n",
       "      <td>Asia</td>\n",
       "      <td>3280000.0</td>\n",
       "      <td>28.11</td>\n",
       "      <td>53.002</td>\n",
       "      <td>7.0</td>\n",
       "      <td>604.0</td>\n",
       "      <td>1.653662</td>\n",
       "    </tr>\n",
       "    <tr>\n",
       "      <td>2</td>\n",
       "      <td>Afghanistan</td>\n",
       "      <td>1820</td>\n",
       "      <td>Asia</td>\n",
       "      <td>3323519.0</td>\n",
       "      <td>28.01</td>\n",
       "      <td>52.862</td>\n",
       "      <td>7.0</td>\n",
       "      <td>604.0</td>\n",
       "      <td>1.653662</td>\n",
       "    </tr>\n",
       "    <tr>\n",
       "      <td>3</td>\n",
       "      <td>Afghanistan</td>\n",
       "      <td>1830</td>\n",
       "      <td>Asia</td>\n",
       "      <td>3448982.0</td>\n",
       "      <td>27.90</td>\n",
       "      <td>52.719</td>\n",
       "      <td>7.0</td>\n",
       "      <td>625.0</td>\n",
       "      <td>1.711157</td>\n",
       "    </tr>\n",
       "    <tr>\n",
       "      <td>4</td>\n",
       "      <td>Afghanistan</td>\n",
       "      <td>1840</td>\n",
       "      <td>Asia</td>\n",
       "      <td>3625022.0</td>\n",
       "      <td>27.80</td>\n",
       "      <td>52.576</td>\n",
       "      <td>7.0</td>\n",
       "      <td>647.0</td>\n",
       "      <td>1.771389</td>\n",
       "    </tr>\n",
       "  </tbody>\n",
       "</table>\n",
       "</div>"
      ],
      "text/plain": [
       "       country  year region  population  life_expectancy  age5_surviving  \\\n",
       "0  Afghanistan  1800   Asia   3280000.0            28.21          53.142   \n",
       "1  Afghanistan  1810   Asia   3280000.0            28.11          53.002   \n",
       "2  Afghanistan  1820   Asia   3323519.0            28.01          52.862   \n",
       "3  Afghanistan  1830   Asia   3448982.0            27.90          52.719   \n",
       "4  Afghanistan  1840   Asia   3625022.0            27.80          52.576   \n",
       "\n",
       "   babies_per_woman  gdp_per_capita  gdp_per_day  \n",
       "0               7.0           603.0     1.650924  \n",
       "1               7.0           604.0     1.653662  \n",
       "2               7.0           604.0     1.653662  \n",
       "3               7.0           625.0     1.711157  \n",
       "4               7.0           647.0     1.771389  "
      ]
     },
     "execution_count": 4,
     "metadata": {},
     "output_type": "execute_result"
    }
   ],
   "source": [
    "gapminder = pd.read_csv('gapminder.csv')\n",
    "gapminder.head()"
   ]
  },
  {
   "cell_type": "markdown",
   "metadata": {},
   "source": [
    "## Survival of Children in 1985"
   ]
  },
  {
   "cell_type": "code",
   "execution_count": 5,
   "metadata": {},
   "outputs": [],
   "source": [
    "gdata = gapminder.query('year == 1985')"
   ]
  },
  {
   "cell_type": "code",
   "execution_count": 26,
   "metadata": {},
   "outputs": [
    {
     "data": {
      "text/plain": [
       "50           coral\n",
       "131           gold\n",
       "212        skyblue\n",
       "293        skyblue\n",
       "374      palegreen\n",
       "           ...    \n",
       "14385    palegreen\n",
       "14466        coral\n",
       "14547        coral\n",
       "14628      skyblue\n",
       "14709      skyblue\n",
       "Name: region, Length: 182, dtype: object"
      ]
     },
     "execution_count": 26,
     "metadata": {},
     "output_type": "execute_result"
    }
   ],
   "source": [
    "size = 1e-6 * gdata.population\n",
    "\n",
    "colors = gdata.region.map({'Africa': 'skyblue', 'Europe': 'gold', 'America': 'palegreen', 'Asia': 'coral'})\n",
    "\n",
    "def plotdata():\n",
    "    gdata.plot.scatter('age5_surviving','babies_per_woman',\n",
    "                       c=colors,s=size,linewidths=0.5,edgecolor='k',alpha=0.5)\n",
    "    \n",
    "def snsplot():\n",
    "    sns.scatterplot(x=gdata.age5_surviving, y=gdata.babies_per_woman, hue=gdata.region, size=gdata.population)\n",
    "    "
   ]
  },
  {
   "cell_type": "code",
   "execution_count": 25,
   "metadata": {},
   "outputs": [
    {
     "data": {
      "image/png": "[encoded data removed]",
      "text/plain": [
       "<Figure size 432x288 with 1 Axes>"
      ]
     },
     "metadata": {
      "image/png": {
       "height": 262,
       "width": 377
      },
      "needs_background": "light"
     },
     "output_type": "display_data"
    }
   ],
   "source": [
    "plotdata()"
   ]
  },
  {
   "cell_type": "code",
   "execution_count": 23,
   "metadata": {},
   "outputs": [
    {
     "data": {
      "image/png": "[encoded data removed]",
      "text/plain": [
       "<Figure size 432x288 with 1 Axes>"
      ]
     },
     "metadata": {
      "image/png": {
       "height": 262,
       "width": 377
      },
      "needs_background": "light"
     },
     "output_type": "display_data"
    }
   ],
   "source": [
    "snsplot()"
   ]
  },
  {
   "cell_type": "code",
   "execution_count": 15,
   "metadata": {},
   "outputs": [
    {
     "data": {
      "application/vnd.vegalite.v3+json": {
       "$schema": "https://vega.github.io/schema/vega-lite/v3.4.0.json",
       "config": {
        "mark": {
         "tooltip": null
        },
        "view": {
         "height": 300,
         "width": 400
        }
       },
       "data": {
        "name": "data-d870aebd74ecf15cccc36321ee49fbd0"
       },
       "datasets": {
        "data-d870aebd74ecf15cccc36321ee49fbd0": [
         {
          "age5_surviving": 78.4,
          "babies_per_woman": 7.68,
          "country": "Afghanistan",
          "gdp_per_capita": 1384,
          "gdp_per_day": 3.789185489390828,
          "life_expectancy": 45.21,
          "population": 11630498,
          "region": "Asia",
          "year": 1985
         },
         {
          "age5_surviving": 94.57,
          "babies_per_woman": 3.23,
          "country": "Albania",
          "gdp_per_capita": 4267,
          "gdp_per_day": 11.682409308692675,
          "life_expectancy": 72.71,
          "population": 2966799,
          "region": "Europe",
          "year": 1985
         },
         {
          "age5_surviving": 92.88,
          "babies_per_woman": 5.98,
          "country": "Algeria",
          "gdp_per_capita": 11030,
          "gdp_per_day": 30.19849418206708,
          "life_expectancy": 67.18,
          "population": 22565908,
          "region": "Africa",
          "year": 1985
         },
         {
          "age5_surviving": 77.17,
          "babies_per_woman": 7.21,
          "country": "Angola",
          "gdp_per_capita": 4117,
          "gdp_per_day": 11.27173169062286,
          "life_expectancy": 47.5,
          "population": 9745209,
          "region": "Africa",
          "year": 1985
         },
         {
          "age5_surviving": 96.946,
          "babies_per_woman": 2.09,
          "country": "Antigua and Barbuda",
          "gdp_per_capita": 11383,
          "gdp_per_day": 31.164955509924713,
          "life_expectancy": 72.13,
          "population": 65744,
          "region": "America",
          "year": 1985
         },
         {
          "age5_surviving": 96.69,
          "babies_per_woman": 3.09,
          "country": "Argentina",
          "gdp_per_capita": 9262,
          "gdp_per_day": 25.357973990417523,
          "life_expectancy": 71.46,
          "population": 30388781,
          "region": "America",
          "year": 1985
         },
         {
          "age5_surviving": 93.86,
          "babies_per_woman": 2.48,
          "country": "Armenia",
          "gdp_per_capita": 3805,
          "gdp_per_day": 10.417522245037645,
          "life_expectancy": 71.7,
          "population": 3339147,
          "region": "Europe",
          "year": 1985
         },
         {
          "age5_surviving": 98.87,
          "babies_per_woman": 1.92,
          "country": "Australia",
          "gdp_per_capita": 25875,
          "gdp_per_day": 70.84188911704312,
          "life_expectancy": 75.41,
          "population": 15791043,
          "region": "Asia",
          "year": 1985
         },
         {
          "age5_surviving": 98.74,
          "babies_per_woman": 1.47,
          "country": "Austria",
          "gdp_per_capita": 27100,
          "gdp_per_day": 74.19575633127995,
          "life_expectancy": 73.95,
          "population": 7600514,
          "region": "Europe",
          "year": 1985
         },
         {
          "age5_surviving": 89.89,
          "babies_per_woman": 2.95,
          "country": "Azerbaijan",
          "gdp_per_capita": 8435,
          "gdp_per_day": 23.09377138945927,
          "life_expectancy": 66.37,
          "population": 6674107,
          "region": "Europe",
          "year": 1985
         },
         {
          "age5_surviving": 97.21,
          "babies_per_woman": 2.86,
          "country": "Bahamas",
          "gdp_per_capita": 24154,
          "gdp_per_day": 66.13004791238878,
          "life_expectancy": 67.67,
          "population": 234684,
          "region": "America",
          "year": 1985
         },
         {
          "age5_surviving": 97.51,
          "babies_per_woman": 4.36,
          "country": "Bahrain",
          "gdp_per_capita": 32131,
          "gdp_per_day": 87.96988364134155,
          "life_expectancy": 70.73,
          "population": 419425,
          "region": "Asia",
          "year": 1985
         },
         {
          "age5_surviving": 82.65,
          "babies_per_woman": 5.52,
          "country": "Bangladesh",
          "gdp_per_capita": 1142,
          "gdp_per_day": 3.12662559890486,
          "life_expectancy": 55.47,
          "population": 93015182,
          "region": "Asia",
          "year": 1985
         },
         {
          "age5_surviving": 97.8,
          "babies_per_woman": 1.83,
          "country": "Barbados",
          "gdp_per_capita": 12115,
          "gdp_per_day": 33.16906228610541,
          "life_expectancy": 71.54,
          "population": 255929,
          "region": "America",
          "year": 1985
         },
         {
          "age5_surviving": 98.06,
          "babies_per_woman": 2.09,
          "country": "Belarus",
          "gdp_per_capita": 7459,
          "gdp_per_day": 20.421629021218344,
          "life_expectancy": 70.28,
          "population": 9990966,
          "region": "Europe",
          "year": 1985
         },
         {
          "age5_surviving": 98.82,
          "babies_per_woman": 1.56,
          "country": "Belgium",
          "gdp_per_capita": 26792,
          "gdp_per_day": 73.35249828884326,
          "life_expectancy": 74.41,
          "population": 9893499,
          "region": "Europe",
          "year": 1985
         },
         {
          "age5_surviving": 94.65,
          "babies_per_woman": 5.02,
          "country": "Belize",
          "gdp_per_capita": 3705,
          "gdp_per_day": 10.143737166324435,
          "life_expectancy": 71.34,
          "population": 164916,
          "region": "America",
          "year": 1985
         },
         {
          "age5_surviving": 80.03,
          "babies_per_woman": 6.97,
          "country": "Benin",
          "gdp_per_capita": 1510,
          "gdp_per_day": 4.134154688569473,
          "life_expectancy": 52.33,
          "population": 4287263,
          "region": "Africa",
          "year": 1985
         },
         {
          "age5_surviving": 83.48,
          "babies_per_woman": 6.31,
          "country": "Bhutan",
          "gdp_per_capita": 1385,
          "gdp_per_day": 3.7919233401779597,
          "life_expectancy": 56.69,
          "population": 469010,
          "region": "Asia",
          "year": 1985
         },
         {
          "age5_surviving": 85.15,
          "babies_per_woman": 5.13,
          "country": "Bolivia",
          "gdp_per_capita": 3706,
          "gdp_per_day": 10.146475017111568,
          "life_expectancy": 58.22,
          "population": 6211549,
          "region": "America",
          "year": 1985
         },
         {
          "age5_surviving": 97.29,
          "babies_per_woman": 1.95,
          "country": "Bosnia and Herzegovina",
          "gdp_per_capita": 3494,
          "gdp_per_day": 9.566050650239562,
          "life_expectancy": 76.95,
          "population": 4369527,
          "region": "Europe",
          "year": 1985
         },
         {
          "age5_surviving": 94.36,
          "babies_per_woman": 5.57,
          "country": "Botswana",
          "gdp_per_capita": 5822,
          "gdp_per_day": 15.939767282683096,
          "life_expectancy": 62.44,
          "population": 1182942,
          "region": "Africa",
          "year": 1985
         },
         {
          "age5_surviving": 92.47,
          "babies_per_woman": 3.45,
          "country": "Brazil",
          "gdp_per_capita": 10495,
          "gdp_per_day": 28.733744010951405,
          "life_expectancy": 65.76,
          "population": 136836428,
          "region": "America",
          "year": 1985
         },
         {
          "age5_surviving": 98.52,
          "babies_per_woman": 3.79,
          "country": "Brunei",
          "gdp_per_capita": 87154,
          "gdp_per_day": 238.61464750171115,
          "life_expectancy": 72.41,
          "population": 223049,
          "region": "Asia",
          "year": 1985
         },
         {
          "age5_surviving": 97.64,
          "babies_per_woman": 2,
          "country": "Bulgaria",
          "gdp_per_capita": 10388,
          "gdp_per_day": 28.44079397672827,
          "life_expectancy": 71.15,
          "population": 8960387,
          "region": "Europe",
          "year": 1985
         },
         {
          "age5_surviving": 78.08,
          "babies_per_woman": 7.14,
          "country": "Burkina Faso",
          "gdp_per_capita": 801,
          "gdp_per_day": 2.1930184804928134,
          "life_expectancy": 51.08,
          "population": 7727912,
          "region": "Africa",
          "year": 1985
         },
         {
          "age5_surviving": 82.25,
          "babies_per_woman": 7.52,
          "country": "Burundi",
          "gdp_per_capita": 994,
          "gdp_per_day": 2.7214236824093088,
          "life_expectancy": 47.08,
          "population": 4774258,
          "region": "Africa",
          "year": 1985
         },
         {
          "age5_surviving": 87.88,
          "babies_per_woman": 6.21,
          "country": "Cambodia",
          "gdp_per_capita": 787,
          "gdp_per_day": 2.154688569472964,
          "life_expectancy": 55.5,
          "population": 7743065,
          "region": "Asia",
          "year": 1985
         },
         {
          "age5_surviving": 85.02,
          "babies_per_woman": 6.7,
          "country": "Cameroon",
          "gdp_per_capita": 3675,
          "gdp_per_day": 10.061601642710473,
          "life_expectancy": 57.17,
          "population": 10381098,
          "region": "Africa",
          "year": 1985
         },
         {
          "age5_surviving": 99.03,
          "babies_per_woman": 1.61,
          "country": "Canada",
          "gdp_per_capita": 29016,
          "gdp_per_day": 79.44147843942505,
          "life_expectancy": 76.31,
          "population": 25848173,
          "region": "America",
          "year": 1985
         },
         {
          "age5_surviving": 92.2,
          "babies_per_woman": 5.88,
          "country": "Cape Verde",
          "gdp_per_capita": 1469,
          "gdp_per_day": 4.0219028062970565,
          "life_expectancy": 66.12,
          "population": 313976,
          "region": "Africa",
          "year": 1985
         },
         {
          "age5_surviving": 82.26,
          "babies_per_woman": 5.94,
          "country": "Central African Republic",
          "gdp_per_capita": 998,
          "gdp_per_day": 2.732375085557837,
          "life_expectancy": 50.57,
          "population": 2627424,
          "region": "Africa",
          "year": 1985
         },
         {
          "age5_surviving": 77.18,
          "babies_per_woman": 7.12,
          "country": "Chad",
          "gdp_per_capita": 1202,
          "gdp_per_day": 3.290896646132785,
          "life_expectancy": 52.51,
          "population": 5092650,
          "region": "Africa",
          "year": 1985
         },
         {
          "age5_surviving": 97.76,
          "babies_per_woman": 2.66,
          "country": "Chile",
          "gdp_per_capita": 7193,
          "gdp_per_day": 19.693360711841205,
          "life_expectancy": 71.42,
          "population": 12108576,
          "region": "America",
          "year": 1985
         },
         {
          "age5_surviving": 94.6,
          "babies_per_woman": 2.65,
          "country": "China",
          "gdp_per_capita": 1557,
          "gdp_per_day": 4.262833675564682,
          "life_expectancy": 65.87,
          "population": 1052622410,
          "region": "Asia",
          "year": 1985
         },
         {
          "age5_surviving": 95.77,
          "babies_per_woman": 3.43,
          "country": "Colombia",
          "gdp_per_capita": 6613,
          "gdp_per_day": 18.105407255304588,
          "life_expectancy": 70.48,
          "population": 31011686,
          "region": "America",
          "year": 1985
         },
         {
          "age5_surviving": 85.28,
          "babies_per_woman": 6.58,
          "country": "Comoros",
          "gdp_per_capita": 1719,
          "gdp_per_day": 4.7063655030800815,
          "life_expectancy": 55.36,
          "population": 357729,
          "region": "Africa",
          "year": 1985
         },
         {
          "age5_surviving": 80.23,
          "babies_per_woman": 6.85,
          "country": "Congo, Dem. Rep.",
          "gdp_per_capita": 1498,
          "gdp_per_day": 4.1013004791238865,
          "life_expectancy": 53.28,
          "population": 29985665,
          "region": "Africa",
          "year": 1985
         },
         {
          "age5_surviving": 90.25,
          "babies_per_woman": 5.77,
          "country": "Congo, Rep.",
          "gdp_per_capita": 6166,
          "gdp_per_day": 16.881587953456542,
          "life_expectancy": 55.94,
          "population": 2083648,
          "region": "Africa",
          "year": 1985
         },
         {
          "age5_surviving": 97.84,
          "babies_per_woman": 3.46,
          "country": "Costa Rica",
          "gdp_per_capita": 6683,
          "gdp_per_day": 18.297056810403834,
          "life_expectancy": 75.37,
          "population": 2730231,
          "region": "America",
          "year": 1985
         },
         {
          "age5_surviving": 84.72999999999998,
          "babies_per_woman": 7.01,
          "country": "Cote d'Ivoire",
          "gdp_per_capita": 3347,
          "gdp_per_day": 9.163586584531142,
          "life_expectancy": 55.02,
          "population": 10158033,
          "region": "Africa",
          "year": 1985
         },
         {
          "age5_surviving": 98.2,
          "babies_per_woman": 1.92,
          "country": "Croatia",
          "gdp_per_capita": 19711,
          "gdp_per_day": 53.965776865160855,
          "life_expectancy": 71.54,
          "population": 4716117,
          "region": "Europe",
          "year": 1985
         },
         {
          "age5_surviving": 98.16,
          "babies_per_woman": 1.84,
          "country": "Cuba",
          "gdp_per_capita": 14135,
          "gdp_per_day": 38.69952087611225,
          "life_expectancy": 74.57,
          "population": 10082990,
          "region": "America",
          "year": 1985
         },
         {
          "age5_surviving": 98.66,
          "babies_per_woman": 2.46,
          "country": "Cyprus",
          "gdp_per_capita": 18130,
          "gdp_per_day": 49.63723477070501,
          "life_expectancy": 75.95,
          "population": 703693,
          "region": "Europe",
          "year": 1985
         },
         {
          "age5_surviving": 98.3,
          "babies_per_woman": 1.97,
          "country": "Czech Republic",
          "gdp_per_capita": 19492,
          "gdp_per_day": 53.366187542778924,
          "life_expectancy": 71.48,
          "population": 10315676,
          "region": "Europe",
          "year": 1985
         },
         {
          "age5_surviving": 99.03,
          "babies_per_woman": 1.45,
          "country": "Denmark",
          "gdp_per_capita": 31032,
          "gdp_per_day": 84.96098562628337,
          "life_expectancy": 74.68,
          "population": 5113408,
          "region": "Europe",
          "year": 1985
         },
         {
          "age5_surviving": 86.47,
          "babies_per_woman": 6.22,
          "country": "Djibouti",
          "gdp_per_capita": 3704,
          "gdp_per_day": 10.140999315537305,
          "life_expectancy": 59.38,
          "population": 423470,
          "region": "Africa",
          "year": 1985
         },
         {
          "age5_surviving": 92.73,
          "babies_per_woman": 3.88,
          "country": "Dominican Republic",
          "gdp_per_capita": 4857,
          "gdp_per_day": 13.297741273100614,
          "life_expectancy": 68.75,
          "population": 6488857,
          "region": "America",
          "year": 1985
         },
         {
          "age5_surviving": 92.73,
          "babies_per_woman": 4.22,
          "country": "Ecuador",
          "gdp_per_capita": 7880,
          "gdp_per_day": 21.57426420260096,
          "life_expectancy": 68.18,
          "population": 9045977,
          "region": "America",
          "year": 1985
         },
         {
          "age5_surviving": 88.12,
          "babies_per_woman": 5.05,
          "country": "Egypt",
          "gdp_per_capita": 5539,
          "gdp_per_day": 15.16495550992471,
          "life_expectancy": 62.38,
          "population": 49373806,
          "region": "Africa",
          "year": 1985
         },
         {
          "age5_surviving": 91.96,
          "babies_per_woman": 4.49,
          "country": "El Salvador",
          "gdp_per_capita": 4478,
          "gdp_per_day": 12.260095824777546,
          "life_expectancy": 61.24,
          "population": 4920932,
          "region": "America",
          "year": 1985
         },
         {
          "age5_surviving": 79.08999999999997,
          "babies_per_woman": 5.85,
          "country": "Equatorial Guinea",
          "gdp_per_capita": 1240,
          "gdp_per_day": 3.394934976043805,
          "life_expectancy": 46.92,
          "population": 314407,
          "region": "Africa",
          "year": 1985
         },
         {
          "age5_surviving": 82.43,
          "babies_per_woman": 6.57,
          "country": "Eritrea",
          "gdp_per_capita": 783,
          "gdp_per_day": 2.143737166324436,
          "life_expectancy": 48.77,
          "population": 2756493,
          "region": "Africa",
          "year": 1985
         },
         {
          "age5_surviving": 97.69,
          "babies_per_woman": 2.19,
          "country": "Estonia",
          "gdp_per_capita": 12540,
          "gdp_per_day": 34.332648870636554,
          "life_expectancy": 69.97,
          "population": 1522477,
          "region": "Europe",
          "year": 1985
         },
         {
          "age5_surviving": 77.66,
          "babies_per_woman": 7.44,
          "country": "Ethiopia",
          "gdp_per_capita": 597,
          "gdp_per_day": 1.6344969199178645,
          "life_expectancy": 35.43,
          "population": 40775997,
          "region": "Africa",
          "year": 1985
         },
         {
          "age5_surviving": 96.46,
          "babies_per_woman": 3.63,
          "country": "Fiji",
          "gdp_per_capita": 5193,
          "gdp_per_day": 14.217659137577002,
          "life_expectancy": 63.96,
          "population": 711663,
          "region": "Asia",
          "year": 1985
         },
         {
          "age5_surviving": 99.27,
          "babies_per_woman": 1.64,
          "country": "Finland",
          "gdp_per_capita": 24630,
          "gdp_per_day": 67.43326488706366,
          "life_expectancy": 74.49,
          "population": 4902219,
          "region": "Europe",
          "year": 1985
         },
         {
          "age5_surviving": 98.97,
          "babies_per_woman": 1.84,
          "country": "France",
          "gdp_per_capita": 25917,
          "gdp_per_day": 70.95687885010267,
          "life_expectancy": 75.67,
          "population": 55379923,
          "region": "Europe",
          "year": 1985
         },
         {
          "age5_surviving": 90.03999999999998,
          "babies_per_woman": 5.69,
          "country": "Gabon",
          "gdp_per_capita": 23142,
          "gdp_per_day": 63.35934291581109,
          "life_expectancy": 57.4,
          "population": 830091,
          "region": "Africa",
          "year": 1985
         },
         {
          "age5_surviving": 79.60000000000002,
          "babies_per_woman": 6.22,
          "country": "Gambia",
          "gdp_per_capita": 1323,
          "gdp_per_day": 3.62217659137577,
          "life_expectancy": 58.21,
          "population": 732092,
          "region": "Africa",
          "year": 1985
         },
         {
          "age5_surviving": 94.93,
          "babies_per_woman": 2.27,
          "country": "Georgia",
          "gdp_per_capita": 10580,
          "gdp_per_day": 28.966461327857637,
          "life_expectancy": 69.75,
          "population": 5287328,
          "region": "Europe",
          "year": 1985
         },
         {
          "age5_surviving": 98.89,
          "babies_per_woman": 1.45,
          "country": "Germany",
          "gdp_per_capita": 29851,
          "gdp_per_day": 81.72758384668036,
          "life_expectancy": 74.55,
          "population": 77570009,
          "region": "Europe",
          "year": 1985
         },
         {
          "age5_surviving": 84.54,
          "babies_per_woman": 6.13,
          "country": "Ghana",
          "gdp_per_capita": 1740,
          "gdp_per_day": 4.763860369609857,
          "life_expectancy": 55.23,
          "population": 12716238,
          "region": "Africa",
          "year": 1985
         },
         {
          "age5_surviving": 98.26,
          "babies_per_woman": 1.73,
          "country": "Greece",
          "gdp_per_capita": 19345,
          "gdp_per_day": 52.9637234770705,
          "life_expectancy": 75.47,
          "population": 9907831,
          "region": "Europe",
          "year": 1985
         },
         {
          "age5_surviving": 97.3,
          "babies_per_woman": 4.23,
          "country": "Grenada",
          "gdp_per_capita": 5253,
          "gdp_per_day": 14.381930184804927,
          "life_expectancy": 68.83,
          "population": 99907,
          "region": "America",
          "year": 1985
         },
         {
          "age5_surviving": 89.8,
          "babies_per_woman": 5.91,
          "country": "Guatemala",
          "gdp_per_capita": 5345,
          "gdp_per_day": 14.633812457221081,
          "life_expectancy": 61.72,
          "population": 8117499,
          "region": "America",
          "year": 1985
         },
         {
          "age5_surviving": 73.69,
          "babies_per_woman": 6.64,
          "country": "Guinea",
          "gdp_per_capita": 1085,
          "gdp_per_day": 2.9705681040383305,
          "life_expectancy": 47.33,
          "population": 5078689,
          "region": "Africa",
          "year": 1985
         },
         {
          "age5_surviving": 77.649,
          "babies_per_woman": 6.74,
          "country": "Guinea-Bissau",
          "gdp_per_capita": 1679,
          "gdp_per_day": 4.596851471594798,
          "life_expectancy": 49.49,
          "population": 944941,
          "region": "Africa",
          "year": 1985
         },
         {
          "age5_surviving": 93.32,
          "babies_per_woman": 2.6,
          "country": "Guyana",
          "gdp_per_capita": 3485,
          "gdp_per_day": 9.541409993155373,
          "life_expectancy": 63.21,
          "population": 765043,
          "region": "America",
          "year": 1985
         },
         {
          "age5_surviving": 83.24000000000002,
          "babies_per_woman": 6.03,
          "country": "Haiti",
          "gdp_per_capita": 2469,
          "gdp_per_day": 6.759753593429158,
          "life_expectancy": 52.42,
          "population": 6384196,
          "region": "America",
          "year": 1985
         },
         {
          "age5_surviving": 92.54,
          "babies_per_woman": 5.68,
          "country": "Honduras",
          "gdp_per_capita": 3261,
          "gdp_per_day": 8.928131416837783,
          "life_expectancy": 66.86,
          "population": 4237436,
          "region": "America",
          "year": 1985
         },
         {
          "age5_surviving": 97.63,
          "babies_per_woman": 1.83,
          "country": "Hungary",
          "gdp_per_capita": 17103,
          "gdp_per_day": 46.82546201232033,
          "life_expectancy": 69.01,
          "population": 10572975,
          "region": "Europe",
          "year": 1985
         },
         {
          "age5_surviving": 99.23,
          "babies_per_woman": 2.15,
          "country": "Iceland",
          "gdp_per_capita": 25997,
          "gdp_per_day": 71.17590691307323,
          "life_expectancy": 77.85,
          "population": 241411,
          "region": "Europe",
          "year": 1985
         },
         {
          "age5_surviving": 85.48,
          "babies_per_woman": 4.28,
          "country": "India",
          "gdp_per_capita": 1462,
          "gdp_per_day": 4.002737850787132,
          "life_expectancy": 56.81,
          "population": 782085127,
          "region": "Asia",
          "year": 1985
         },
         {
          "age5_surviving": 89.69,
          "babies_per_woman": 3.75,
          "country": "Indonesia",
          "gdp_per_capita": 3489,
          "gdp_per_day": 9.552361396303901,
          "life_expectancy": 61.66,
          "population": 165012195,
          "region": "Asia",
          "year": 1985
         },
         {
          "age5_surviving": 92.26,
          "babies_per_woman": 6.22,
          "country": "Iran",
          "gdp_per_capita": 11047,
          "gdp_per_day": 30.245037645448324,
          "life_expectancy": 57.39,
          "population": 47290793,
          "region": "Asia",
          "year": 1985
         },
         {
          "age5_surviving": 93.84,
          "babies_per_woman": 6.22,
          "country": "Iraq",
          "gdp_per_capita": 10711,
          "gdp_per_day": 29.325119780971942,
          "life_expectancy": 59.36,
          "population": 15576396,
          "region": "Asia",
          "year": 1985
         },
         {
          "age5_surviving": 98.93,
          "babies_per_woman": 2.45,
          "country": "Ireland",
          "gdp_per_capita": 17606,
          "gdp_per_day": 48.202600958247785,
          "life_expectancy": 74.84,
          "population": 3560225,
          "region": "Europe",
          "year": 1985
         },
         {
          "age5_surviving": 98.56,
          "babies_per_woman": 3.09,
          "country": "Israel",
          "gdp_per_capita": 15542,
          "gdp_per_day": 42.55167693360712,
          "life_expectancy": 75.1,
          "population": 4082781,
          "region": "Asia",
          "year": 1985
         },
         {
          "age5_surviving": 98.8,
          "babies_per_woman": 1.41,
          "country": "Italy",
          "gdp_per_capita": 25646,
          "gdp_per_day": 70.21492128678986,
          "life_expectancy": 75.62,
          "population": 56910888,
          "region": "Europe",
          "year": 1985
         },
         {
          "age5_surviving": 96.47,
          "babies_per_woman": 3.31,
          "country": "Jamaica",
          "gdp_per_capita": 5969,
          "gdp_per_day": 16.342231348391508,
          "life_expectancy": 74.79,
          "population": 2312337,
          "region": "America",
          "year": 1985
         },
         {
          "age5_surviving": 99.25,
          "babies_per_woman": 1.72,
          "country": "Japan",
          "gdp_per_capita": 23554,
          "gdp_per_day": 64.48733744010951,
          "life_expectancy": 77.8,
          "population": 119988663,
          "region": "Asia",
          "year": 1985
         },
         {
          "age5_surviving": 95.54,
          "babies_per_woman": 6.58,
          "country": "Jordan",
          "gdp_per_capita": 8859,
          "gdp_per_day": 24.25462012320329,
          "life_expectancy": 69.75,
          "population": 2782885,
          "region": "Asia",
          "year": 1985
         },
         {
          "age5_surviving": 94.06,
          "babies_per_woman": 3.02,
          "country": "Kazakhstan",
          "gdp_per_capita": 12922,
          "gdp_per_day": 35.378507871321005,
          "life_expectancy": 68.07,
          "population": 15780002,
          "region": "Asia",
          "year": 1985
         },
         {
          "age5_surviving": 90.59,
          "babies_per_woman": 6.92,
          "country": "Kenya",
          "gdp_per_capita": 2155,
          "gdp_per_day": 5.900068446269678,
          "life_expectancy": 61.96,
          "population": 19660713,
          "region": "Africa",
          "year": 1985
         },
         {
          "age5_surviving": 88.51,
          "babies_per_woman": 4.86,
          "country": "Kiribati",
          "gdp_per_capita": 1531,
          "gdp_per_day": 4.191649555099247,
          "life_expectancy": 56.04,
          "population": 64006,
          "region": "Asia",
          "year": 1985
         },
         {
          "age5_surviving": 96.49,
          "babies_per_woman": 2.59,
          "country": "North Korea",
          "gdp_per_capita": 2121,
          "gdp_per_day": 5.806981519507188,
          "life_expectancy": 67,
          "population": 18778101,
          "region": "Asia",
          "year": 1985
         },
         {
          "age5_surviving": 99.01,
          "babies_per_woman": 1.86,
          "country": "South Korea",
          "gdp_per_capita": 6970,
          "gdp_per_day": 19.082819986310746,
          "life_expectancy": 68.98,
          "population": 40501917,
          "region": "Asia",
          "year": 1985
         },
         {
          "age5_surviving": 97.69,
          "babies_per_woman": 4.09,
          "country": "Kuwait",
          "gdp_per_capita": 58143,
          "gdp_per_day": 159.18685831622176,
          "life_expectancy": 75.59,
          "population": 1735320,
          "region": "Asia",
          "year": 1985
         },
         {
          "age5_surviving": 92.09,
          "babies_per_woman": 4.09,
          "country": "Kyrgyz Republic",
          "gdp_per_capita": 3506,
          "gdp_per_day": 9.598904859685147,
          "life_expectancy": 64.86,
          "population": 4013498,
          "region": "Asia",
          "year": 1985
         },
         {
          "age5_surviving": 81.82000000000002,
          "babies_per_woman": 6.36,
          "country": "Lao",
          "gdp_per_capita": 1616,
          "gdp_per_day": 4.424366872005477,
          "life_expectancy": 48.54,
          "population": 3680145,
          "region": "Asia",
          "year": 1985
         },
         {
          "age5_surviving": 97.9,
          "babies_per_woman": 2.13,
          "country": "Latvia",
          "gdp_per_capita": 12448,
          "gdp_per_day": 34.0807665982204,
          "life_expectancy": 69.72,
          "population": 2582079,
          "region": "Europe",
          "year": 1985
         },
         {
          "age5_surviving": 95.84,
          "babies_per_woman": 3.48,
          "country": "Lebanon",
          "gdp_per_capita": 12739,
          "gdp_per_day": 34.87748117727584,
          "life_expectancy": 68.07,
          "population": 2676593,
          "region": "Asia",
          "year": 1985
         },
         {
          "age5_surviving": 90.28,
          "babies_per_woman": 5.31,
          "country": "Lesotho",
          "gdp_per_capita": 1113,
          "gdp_per_day": 3.047227926078029,
          "life_expectancy": 57.31,
          "population": 1467856,
          "region": "Africa",
          "year": 1985
         },
         {
          "age5_surviving": 76.5,
          "babies_per_woman": 6.88,
          "country": "Liberia",
          "gdp_per_capita": 971,
          "gdp_per_day": 2.6584531143052703,
          "life_expectancy": 48.58,
          "population": 2197442,
          "region": "Africa",
          "year": 1985
         },
         {
          "age5_surviving": 94.56,
          "babies_per_woman": 6.58,
          "country": "Libya",
          "gdp_per_capita": 35825,
          "gdp_per_day": 98.0835044490075,
          "life_expectancy": 71.09,
          "population": 3840635,
          "region": "Africa",
          "year": 1985
         },
         {
          "age5_surviving": 98.09,
          "babies_per_woman": 2.06,
          "country": "Lithuania",
          "gdp_per_capita": 16510,
          "gdp_per_day": 45.201916495550996,
          "life_expectancy": 70.78,
          "population": 3563741,
          "region": "Europe",
          "year": 1985
         },
         {
          "age5_surviving": 98.88,
          "babies_per_woman": 1.45,
          "country": "Luxembourg",
          "gdp_per_capita": 40621,
          "gdp_per_day": 111.21423682409308,
          "life_expectancy": 73.51,
          "population": 366884,
          "region": "Europe",
          "year": 1985
         },
         {
          "age5_surviving": 95.05,
          "babies_per_woman": 2.4,
          "country": "Macedonia, FYR",
          "gdp_per_capita": 10505,
          "gdp_per_day": 28.761122518822727,
          "life_expectancy": 70.26,
          "population": 1981532,
          "region": "Europe",
          "year": 1985
         },
         {
          "age5_surviving": 81.76,
          "babies_per_woman": 6.15,
          "country": "Madagascar",
          "gdp_per_capita": 1691,
          "gdp_per_day": 4.629705681040384,
          "life_expectancy": 54.19,
          "population": 9981113,
          "region": "Africa",
          "year": 1985
         },
         {
          "age5_surviving": 75.18,
          "babies_per_woman": 7.55,
          "country": "Malawi",
          "gdp_per_capita": 614,
          "gdp_per_day": 1.6810403832991103,
          "life_expectancy": 47.6,
          "population": 7205635,
          "region": "Africa",
          "year": 1985
         },
         {
          "age5_surviving": 97.82,
          "babies_per_woman": 3.66,
          "country": "Malaysia",
          "gdp_per_capita": 8198,
          "gdp_per_day": 22.444900752908968,
          "life_expectancy": 70.45,
          "population": 15764340,
          "region": "Asia",
          "year": 1985
         },
         {
          "age5_surviving": 87.97,
          "babies_per_woman": 7.18,
          "country": "Maldives",
          "gdp_per_capita": 3091,
          "gdp_per_day": 8.462696783025327,
          "life_expectancy": 61.51,
          "population": 189551,
          "region": "Asia",
          "year": 1985
         },
         {
          "age5_surviving": 71.50000000000001,
          "babies_per_woman": 7.09,
          "country": "Mali",
          "gdp_per_capita": 1001,
          "gdp_per_day": 2.740588637919233,
          "life_expectancy": 46.68,
          "population": 7831891,
          "region": "Africa",
          "year": 1985
         },
         {
          "age5_surviving": 98.61,
          "babies_per_woman": 2.06,
          "country": "Malta",
          "gdp_per_capita": 12888,
          "gdp_per_day": 35.285420944558524,
          "life_expectancy": 75.81,
          "population": 338348,
          "region": "Europe",
          "year": 1985
         },
         {
          "age5_surviving": 86.08,
          "babies_per_woman": 6.18,
          "country": "Mauritania",
          "gdp_per_capita": 2710,
          "gdp_per_day": 7.419575633127994,
          "life_expectancy": 57.86,
          "population": 1766855,
          "region": "Africa",
          "year": 1985
         },
         {
          "age5_surviving": 97.16,
          "babies_per_woman": 2.25,
          "country": "Mauritius",
          "gdp_per_capita": 5447,
          "gdp_per_day": 14.913073237508554,
          "life_expectancy": 68.26,
          "population": 1015763,
          "region": "Africa",
          "year": 1985
         },
         {
          "age5_surviving": 94.13,
          "babies_per_woman": 3.9,
          "country": "Mexico",
          "gdp_per_capita": 12562,
          "gdp_per_day": 34.39288158795345,
          "life_expectancy": 69.4,
          "population": 77322643,
          "region": "America",
          "year": 1985
         },
         {
          "age5_surviving": 94.1,
          "babies_per_woman": 5.6,
          "country": "Micronesia, Fed. Sts.",
          "gdp_per_capita": 2529,
          "gdp_per_day": 6.924024640657084,
          "life_expectancy": 63.92,
          "population": 85689,
          "region": "Asia",
          "year": 1985
         },
         {
          "age5_surviving": 95.91,
          "babies_per_woman": 2.64,
          "country": "Moldova",
          "gdp_per_capita": 6266,
          "gdp_per_day": 17.155373032169745,
          "life_expectancy": 66.83,
          "population": 4214911,
          "region": "Europe",
          "year": 1985
         },
         {
          "age5_surviving": 86.42,
          "babies_per_woman": 5.35,
          "country": "Mongolia",
          "gdp_per_capita": 3188,
          "gdp_per_day": 8.728268309377139,
          "life_expectancy": 60.22,
          "population": 1921885,
          "region": "Asia",
          "year": 1985
         },
         {
          "age5_surviving": 97.54,
          "babies_per_woman": 2.06,
          "country": "Montenegro",
          "gdp_per_capita": 17613,
          "gdp_per_day": 48.22176591375771,
          "life_expectancy": 73.96,
          "population": 614011,
          "region": "Europe",
          "year": 1985
         },
         {
          "age5_surviving": 89.7,
          "babies_per_woman": 4.94,
          "country": "Morocco",
          "gdp_per_capita": 3566,
          "gdp_per_day": 9.763175906913071,
          "life_expectancy": 64.14,
          "population": 22596133,
          "region": "Africa",
          "year": 1985
         },
         {
          "age5_surviving": 74.59,
          "babies_per_woman": 6.4,
          "country": "Mozambique",
          "gdp_per_capita": 379,
          "gdp_per_day": 1.0376454483230664,
          "life_expectancy": 50.02,
          "population": 13102982,
          "region": "Africa",
          "year": 1985
         },
         {
          "age5_surviving": 87.57000000000002,
          "babies_per_woman": 4.28,
          "country": "Myanmar",
          "gdp_per_capita": 2131,
          "gdp_per_day": 5.834360027378508,
          "life_expectancy": 55.87,
          "population": 38508821,
          "region": "Asia",
          "year": 1985
         },
         {
          "age5_surviving": 91.42,
          "babies_per_woman": 5.89,
          "country": "Namibia",
          "gdp_per_capita": 6069,
          "gdp_per_day": 16.61601642710472,
          "life_expectancy": 60.27,
          "population": 1149389,
          "region": "Africa",
          "year": 1985
         },
         {
          "age5_surviving": 82.35,
          "babies_per_woman": 5.51,
          "country": "Nepal",
          "gdp_per_capita": 1104,
          "gdp_per_day": 3.02258726899384,
          "life_expectancy": 54.17,
          "population": 16714335,
          "region": "Asia",
          "year": 1985
         },
         {
          "age5_surviving": 99.03,
          "babies_per_woman": 1.51,
          "country": "Netherlands",
          "gdp_per_capita": 27544,
          "gdp_per_day": 75.4113620807666,
          "life_expectancy": 76.34,
          "population": 14471591,
          "region": "Europe",
          "year": 1985
         },
         {
          "age5_surviving": 98.62,
          "babies_per_woman": 2.14,
          "country": "New Zealand",
          "gdp_per_capita": 23750,
          "gdp_per_day": 65.02395619438741,
          "life_expectancy": 74.03,
          "population": 3268192,
          "region": "Asia",
          "year": 1985
         },
         {
          "age5_surviving": 91.73,
          "babies_per_woman": 5.43,
          "country": "Nicaragua",
          "gdp_per_capita": 4112,
          "gdp_per_day": 11.2580424366872,
          "life_expectancy": 68.89,
          "population": 3709091,
          "region": "America",
          "year": 1985
         },
         {
          "age5_surviving": 66.71000000000001,
          "babies_per_woman": 7.78,
          "country": "Niger",
          "gdp_per_capita": 997,
          "gdp_per_day": 2.729637234770705,
          "life_expectancy": 44.63,
          "population": 6838170,
          "region": "Africa",
          "year": 1985
         },
         {
          "age5_surviving": 79.05,
          "babies_per_woman": 6.7,
          "country": "Nigeria",
          "gdp_per_capita": 3258,
          "gdp_per_day": 8.919917864476385,
          "life_expectancy": 53.54,
          "population": 83901570,
          "region": "Africa",
          "year": 1985
         },
         {
          "age5_surviving": 98.98,
          "babies_per_woman": 1.68,
          "country": "Norway",
          "gdp_per_capita": 40031,
          "gdp_per_day": 109.59890485968515,
          "life_expectancy": 76.07,
          "population": 4148355,
          "region": "Europe",
          "year": 1985
         },
         {
          "age5_surviving": 93.39,
          "babies_per_woman": 8.22,
          "country": "Oman",
          "gdp_per_capita": 34967,
          "gdp_per_day": 95.73442847364818,
          "life_expectancy": 68.35,
          "population": 1498416,
          "region": "Asia",
          "year": 1985
         },
         {
          "age5_surviving": 84.89,
          "babies_per_woman": 6.41,
          "country": "Pakistan",
          "gdp_per_capita": 2603,
          "gdp_per_day": 7.12662559890486,
          "life_expectancy": 60.43,
          "population": 92165065,
          "region": "Asia",
          "year": 1985
         },
         {
          "age5_surviving": 96.33,
          "babies_per_woman": 3.41,
          "country": "Panama",
          "gdp_per_capita": 8847,
          "gdp_per_day": 24.2217659137577,
          "life_expectancy": 73.45,
          "population": 2219276,
          "region": "America",
          "year": 1985
         },
         {
          "age5_surviving": 90.28,
          "babies_per_woman": 5.21,
          "country": "Papua New Guinea",
          "gdp_per_capita": 1720,
          "gdp_per_day": 4.709103353867215,
          "life_expectancy": 55.08,
          "population": 3677854,
          "region": "Asia",
          "year": 1985
         },
         {
          "age5_surviving": 94.47,
          "babies_per_woman": 5.02,
          "country": "Paraguay",
          "gdp_per_capita": 5743,
          "gdp_per_day": 15.723477070499658,
          "life_expectancy": 72.87,
          "population": 3671826,
          "region": "America",
          "year": 1985
         },
         {
          "age5_surviving": 89.58,
          "babies_per_woman": 4.36,
          "country": "Peru",
          "gdp_per_capita": 6432,
          "gdp_per_day": 17.609856262833677,
          "life_expectancy": 65.8,
          "population": 19544950,
          "region": "America",
          "year": 1985
         },
         {
          "age5_surviving": 92.6,
          "babies_per_woman": 4.71,
          "country": "Philippines",
          "gdp_per_capita": 3559,
          "gdp_per_day": 9.744010951403148,
          "life_expectancy": 65.95,
          "population": 54323651,
          "region": "Asia",
          "year": 1985
         },
         {
          "age5_surviving": 97.97,
          "babies_per_woman": 2.27,
          "country": "Poland",
          "gdp_per_capita": 11159,
          "gdp_per_day": 30.55167693360712,
          "life_expectancy": 70.78,
          "population": 37486105,
          "region": "Europe",
          "year": 1985
         },
         {
          "age5_surviving": 97.96,
          "babies_per_woman": 1.78,
          "country": "Portugal",
          "gdp_per_capita": 15533,
          "gdp_per_day": 42.527036276522935,
          "life_expectancy": 73.22,
          "population": 9929014,
          "region": "Europe",
          "year": 1985
         },
         {
          "age5_surviving": 97.17,
          "babies_per_woman": 4.93,
          "country": "Qatar",
          "gdp_per_capita": 76910,
          "gdp_per_day": 210.5681040383299,
          "life_expectancy": 73.51,
          "population": 371071,
          "region": "Asia",
          "year": 1985
         },
         {
          "age5_surviving": 96.11,
          "babies_per_woman": 2.27,
          "country": "Romania",
          "gdp_per_capita": 13673,
          "gdp_per_day": 37.43463381245722,
          "life_expectancy": 70.05,
          "population": 23103637,
          "region": "Europe",
          "year": 1985
         },
         {
          "age5_surviving": 97,
          "babies_per_woman": 2.05,
          "country": "Russia",
          "gdp_per_capita": 18576,
          "gdp_per_day": 50.85831622176591,
          "life_expectancy": 68.19,
          "population": 142975753,
          "region": "Europe",
          "year": 1985
         },
         {
          "age5_surviving": 84.08,
          "babies_per_woman": 8.28,
          "country": "Rwanda",
          "gdp_per_capita": 962,
          "gdp_per_day": 2.6338124572210813,
          "life_expectancy": 49.15,
          "population": 6117966,
          "region": "Africa",
          "year": 1985
         },
         {
          "age5_surviving": 97.27,
          "babies_per_woman": 3.89,
          "country": "St. Lucia",
          "gdp_per_capita": 5689,
          "gdp_per_day": 15.575633127994525,
          "life_expectancy": 69.7,
          "population": 126416,
          "region": "America",
          "year": 1985
         },
         {
          "age5_surviving": 96.51,
          "babies_per_woman": 3.33,
          "country": "St. Vincent and the Grenadines",
          "gdp_per_capita": 4397,
          "gdp_per_day": 12.038329911019847,
          "life_expectancy": 68.68,
          "population": 104477,
          "region": "America",
          "year": 1985
         },
         {
          "age5_surviving": 96.27,
          "babies_per_woman": 5.62,
          "country": "Samoa",
          "gdp_per_capita": 3636,
          "gdp_per_day": 9.954825462012321,
          "life_expectancy": 66.1,
          "population": 160030,
          "region": "Asia",
          "year": 1985
         },
         {
          "age5_surviving": 89.74,
          "babies_per_woman": 5.97,
          "country": "Sao Tome and Principe",
          "gdp_per_capita": 2653,
          "gdp_per_day": 7.263518138261465,
          "life_expectancy": 62.4,
          "population": 103557,
          "region": "Africa",
          "year": 1985
         },
         {
          "age5_surviving": 93.09,
          "babies_per_woman": 6.66,
          "country": "Saudi Arabia",
          "gdp_per_capita": 36344,
          "gdp_per_day": 99.50444900752909,
          "life_expectancy": 71.01,
          "population": 13361284,
          "region": "Asia",
          "year": 1985
         },
         {
          "age5_surviving": 82.74000000000002,
          "babies_per_woman": 7.09,
          "country": "Senegal",
          "gdp_per_capita": 1823,
          "gdp_per_day": 4.991101984941821,
          "life_expectancy": 54.45,
          "population": 6438024,
          "region": "Africa",
          "year": 1985
         },
         {
          "age5_surviving": 96.09,
          "babies_per_woman": 2.29,
          "country": "Serbia",
          "gdp_per_capita": 16214,
          "gdp_per_day": 44.39151266255989,
          "life_expectancy": 71.58,
          "population": 9253401,
          "region": "Europe",
          "year": 1985
         },
         {
          "age5_surviving": 97.95,
          "babies_per_woman": 3.19,
          "country": "Seychelles",
          "gdp_per_capita": 11392,
          "gdp_per_day": 31.189596167008897,
          "life_expectancy": 69.3,
          "population": 69841,
          "region": "Africa",
          "year": 1985
         },
         {
          "age5_surviving": 72.72000000000001,
          "babies_per_woman": 6.89,
          "country": "Sierra Leone",
          "gdp_per_capita": 1415,
          "gdp_per_day": 3.874058863791924,
          "life_expectancy": 53.14,
          "population": 3466044,
          "region": "Africa",
          "year": 1985
         },
         {
          "age5_surviving": 98.91,
          "babies_per_woman": 1.61,
          "country": "Singapore",
          "gdp_per_capita": 25245,
          "gdp_per_day": 69.11704312114989,
          "life_expectancy": 72.87,
          "population": 2708634,
          "region": "Asia",
          "year": 1985
         },
         {
          "age5_surviving": 97.82,
          "babies_per_woman": 2.22,
          "country": "Slovak Republic",
          "gdp_per_capita": 14144,
          "gdp_per_day": 38.72416153319645,
          "life_expectancy": 70.89,
          "population": 5157959,
          "region": "Europe",
          "year": 1985
         },
         {
          "age5_surviving": 98.56,
          "babies_per_woman": 1.74,
          "country": "Slovenia",
          "gdp_per_capita": 21062,
          "gdp_per_day": 57.66461327857632,
          "life_expectancy": 71.63,
          "population": 1945136,
          "region": "Europe",
          "year": 1985
         },
         {
          "age5_surviving": 95.55,
          "babies_per_woman": 6.28,
          "country": "Solomon Islands",
          "gdp_per_capita": 1479,
          "gdp_per_day": 4.049281314168378,
          "life_expectancy": 60.26,
          "population": 270809,
          "region": "Asia",
          "year": 1985
         },
         {
          "age5_surviving": 81.4,
          "babies_per_woman": 7.15,
          "country": "Somalia",
          "gdp_per_capita": 919,
          "gdp_per_day": 2.5160848733744006,
          "life_expectancy": 49.24,
          "population": 6068425,
          "region": "Africa",
          "year": 1985
         },
         {
          "age5_surviving": 92.65,
          "babies_per_woman": 4.29,
          "country": "South Africa",
          "gdp_per_capita": 10699,
          "gdp_per_day": 29.29226557152635,
          "life_expectancy": 59.78,
          "population": 32983013,
          "region": "Africa",
          "year": 1985
         },
         {
          "age5_surviving": 98.66,
          "babies_per_woman": 1.63,
          "country": "Spain",
          "gdp_per_capita": 19300,
          "gdp_per_day": 52.84052019164955,
          "life_expectancy": 76.34,
          "population": 38734330,
          "region": "Europe",
          "year": 1985
         },
         {
          "age5_surviving": 96.98,
          "babies_per_woman": 2.9,
          "country": "Sri Lanka",
          "gdp_per_capita": 3008,
          "gdp_per_day": 8.235455167693361,
          "life_expectancy": 69.97,
          "population": 16180776,
          "region": "Asia",
          "year": 1985
         },
         {
          "age5_surviving": 86.4,
          "babies_per_woman": 6.47,
          "country": "Sudan",
          "gdp_per_capita": 1850,
          "gdp_per_day": 5.065023956194388,
          "life_expectancy": 57.81,
          "population": 17097619,
          "region": "Africa",
          "year": 1985
         },
         {
          "age5_surviving": 94.59,
          "babies_per_woman": 3.34,
          "country": "Suriname",
          "gdp_per_capita": 11162,
          "gdp_per_day": 30.55989048596852,
          "life_expectancy": 68.98,
          "population": 371469,
          "region": "America",
          "year": 1985
         },
         {
          "age5_surviving": 91.33,
          "babies_per_woman": 6.38,
          "country": "Swaziland",
          "gdp_per_capita": 4945,
          "gdp_per_day": 13.538672142368243,
          "life_expectancy": 58.6,
          "population": 705492,
          "region": "Africa",
          "year": 1985
         },
         {
          "age5_surviving": 99.24,
          "babies_per_woman": 1.74,
          "country": "Sweden",
          "gdp_per_capita": 28202,
          "gdp_per_day": 77.21286789869951,
          "life_expectancy": 76.72,
          "population": 8350814,
          "region": "Europe",
          "year": 1985
         },
         {
          "age5_surviving": 99.1,
          "babies_per_woman": 1.54,
          "country": "Switzerland",
          "gdp_per_capita": 42462,
          "gdp_per_day": 116.25462012320328,
          "life_expectancy": 76.99,
          "population": 6455680,
          "region": "Europe",
          "year": 1985
         },
         {
          "age5_surviving": 95.3,
          "babies_per_woman": 6.36,
          "country": "Syria",
          "gdp_per_capita": 4653,
          "gdp_per_day": 12.739219712525669,
          "life_expectancy": 68.51,
          "population": 10667245,
          "region": "Asia",
          "year": 1985
         },
         {
          "age5_surviving": 87.74,
          "babies_per_woman": 5.49,
          "country": "Tajikistan",
          "gdp_per_capita": 4059,
          "gdp_per_day": 11.1129363449692,
          "life_expectancy": 65.55,
          "population": 4540688,
          "region": "Asia",
          "year": 1985
         },
         {
          "age5_surviving": 82.52,
          "babies_per_woman": 6.47,
          "country": "Tanzania",
          "gdp_per_capita": 1379,
          "gdp_per_day": 3.775496235455168,
          "life_expectancy": 55.44,
          "population": 21842087,
          "region": "Africa",
          "year": 1985
         },
         {
          "age5_surviving": 95.17,
          "babies_per_woman": 2.57,
          "country": "Thailand",
          "gdp_per_capita": 4191,
          "gdp_per_day": 11.474332648870636,
          "life_expectancy": 68.36,
          "population": 52041468,
          "region": "Asia",
          "year": 1985
         },
         {
          "age5_surviving": 76.166,
          "babies_per_woman": 5.34,
          "country": "Timor-Leste",
          "gdp_per_capita": 933,
          "gdp_per_day": 2.5544147843942504,
          "life_expectancy": 52.51,
          "population": 657018,
          "region": "Asia",
          "year": 1985
         },
         {
          "age5_surviving": 84.1,
          "babies_per_woman": 6.87,
          "country": "Togo",
          "gdp_per_capita": 1449,
          "gdp_per_day": 3.967145790554415,
          "life_expectancy": 56.39,
          "population": 3252995,
          "region": "Africa",
          "year": 1985
         },
         {
          "age5_surviving": 97.46,
          "babies_per_woman": 5.13,
          "country": "Tonga",
          "gdp_per_capita": 3621,
          "gdp_per_day": 9.913757700205341,
          "life_expectancy": 68.27,
          "population": 93953,
          "region": "Asia",
          "year": 1985
         },
         {
          "age5_surviving": 96.6,
          "babies_per_woman": 3.06,
          "country": "Trinidad and Tobago",
          "gdp_per_capita": 15331,
          "gdp_per_day": 41.97399041752225,
          "life_expectancy": 68.5,
          "population": 1170935,
          "region": "America",
          "year": 1985
         },
         {
          "age5_surviving": 92.85,
          "babies_per_woman": 4.45,
          "country": "Tunisia",
          "gdp_per_capita": 5205,
          "gdp_per_day": 14.250513347022586,
          "life_expectancy": 68.56,
          "population": 7321877,
          "region": "Africa",
          "year": 1985
         },
         {
          "age5_surviving": 90.07000000000002,
          "babies_per_woman": 3.7,
          "country": "Turkey",
          "gdp_per_capita": 9163,
          "gdp_per_day": 25.086926762491444,
          "life_expectancy": 65.15,
          "population": 49178079,
          "region": "Europe",
          "year": 1985
         },
         {
          "age5_surviving": 89.64,
          "babies_per_woman": 4.67,
          "country": "Turkmenistan",
          "gdp_per_capita": 9143,
          "gdp_per_day": 25.032169746748806,
          "life_expectancy": 63.44,
          "population": 3229499,
          "region": "Asia",
          "year": 1985
         },
         {
          "age5_surviving": 81.36,
          "babies_per_woman": 7.1,
          "country": "Uganda",
          "gdp_per_capita": 716,
          "gdp_per_day": 1.9603011635865848,
          "life_expectancy": 52.09,
          "population": 14631089,
          "region": "Africa",
          "year": 1985
         },
         {
          "age5_surviving": 97.73,
          "babies_per_woman": 2.05,
          "country": "Ukraine",
          "gdp_per_capita": 9981,
          "gdp_per_day": 27.326488706365506,
          "life_expectancy": 69.47,
          "population": 50920778,
          "region": "Europe",
          "year": 1985
         },
         {
          "age5_surviving": 97.73,
          "babies_per_woman": 5.07,
          "country": "United Arab Emirates",
          "gdp_per_capita": 129469,
          "gdp_per_day": 354.466803559206,
          "life_expectancy": 68.98,
          "population": 1350433,
          "region": "Asia",
          "year": 1985
         },
         {
          "age5_surviving": 98.86,
          "babies_per_woman": 1.81,
          "country": "United Kingdom",
          "gdp_per_capita": 22648,
          "gdp_per_day": 62.00684462696783,
          "life_expectancy": 74.51,
          "population": 56415196,
          "region": "Europe",
          "year": 1985
         },
         {
          "age5_surviving": 98.73,
          "babies_per_woman": 1.84,
          "country": "United States",
          "gdp_per_capita": 33065,
          "gdp_per_day": 90.52703627652294,
          "life_expectancy": 74.79,
          "population": 240691557,
          "region": "America",
          "year": 1985
         },
         {
          "age5_surviving": 97.14,
          "babies_per_woman": 2.53,
          "country": "Uruguay",
          "gdp_per_capita": 8478,
          "gdp_per_day": 23.211498973305954,
          "life_expectancy": 71.97,
          "population": 3011907,
          "region": "America",
          "year": 1985
         },
         {
          "age5_surviving": 91.47,
          "babies_per_woman": 4.54,
          "country": "Uzbekistan",
          "gdp_per_capita": 3227,
          "gdp_per_day": 8.835044490075289,
          "life_expectancy": 67.85,
          "population": 18174143,
          "region": "Asia",
          "year": 1985
         },
         {
          "age5_surviving": 95.22,
          "babies_per_woman": 5.21,
          "country": "Vanuatu",
          "gdp_per_capita": 2679,
          "gdp_per_day": 7.3347022587268995,
          "life_expectancy": 59.87,
          "population": 130028,
          "region": "Asia",
          "year": 1985
         },
         {
          "age5_surviving": 96.39,
          "babies_per_woman": 3.79,
          "country": "Venezuela",
          "gdp_per_capita": 13874,
          "gdp_per_day": 37.984941820670784,
          "life_expectancy": 70.89,
          "population": 17508059,
          "region": "America",
          "year": 1985
         },
         {
          "age5_surviving": 93.97,
          "babies_per_woman": 4.21,
          "country": "Vietnam",
          "gdp_per_capita": 1345,
          "gdp_per_day": 3.6824093086926766,
          "life_expectancy": 67.77,
          "population": 61049370,
          "region": "Asia",
          "year": 1985
         },
         {
          "age5_surviving": 84.72999999999998,
          "babies_per_woman": 9.19,
          "country": "Yemen",
          "gdp_per_capita": 3526,
          "gdp_per_day": 9.653661875427787,
          "life_expectancy": 55.69,
          "population": 9774242,
          "region": "Asia",
          "year": 1985
         },
         {
          "age5_surviving": 83.3,
          "babies_per_woman": 6.8,
          "country": "Zambia",
          "gdp_per_capita": 2602,
          "gdp_per_day": 7.123887748117727,
          "life_expectancy": 55.54,
          "population": 7017292,
          "region": "Africa",
          "year": 1985
         },
         {
          "age5_surviving": 92.31,
          "babies_per_woman": 6.22,
          "country": "Zimbabwe",
          "gdp_per_capita": 2395,
          "gdp_per_day": 6.557152635181383,
          "life_expectancy": 64.86,
          "population": 8862601,
          "region": "Africa",
          "year": 1985
         }
        ]
       },
       "encoding": {
        "color": {
         "field": "region",
         "type": "nominal"
        },
        "size": {
         "field": "population",
         "type": "quantitative"
        },
        "tooltip": [
         {
          "field": "country",
          "type": "nominal"
         }
        ],
        "x": {
         "field": "age5_surviving",
         "type": "quantitative"
        },
        "y": {
         "field": "babies_per_woman",
         "type": "quantitative"
        }
       },
       "mark": "point",
       "selection": {
        "selector002": {
         "bind": "scales",
         "encodings": [
          "x",
          "y"
         ],
         "type": "interval"
        }
       }
      },
      "image/png": "[encoded data removed]",
      "text/plain": [
       "<VegaLite 3 object>\n",
       "\n",
       "If you see this message, it means the renderer has not been properly enabled\n",
       "for the frontend that you are using. For more information, see\n",
       "https://altair-viz.github.io/user_guide/troubleshooting.html\n"
      ]
     },
     "execution_count": 15,
     "metadata": {},
     "output_type": "execute_result"
    }
   ],
   "source": [
    "alt.Chart(gdata).mark_point().encode(\n",
    "    x='age5_surviving', y='babies_per_woman', color='region', size='population', tooltip=['country']).interactive()"
   ]
  },
  {
   "cell_type": "code",
   "execution_count": 18,
   "metadata": {},
   "outputs": [
    {
     "data": {
      "text/plain": [
       "<matplotlib.axes._subplots.AxesSubplot at 0x1c2453fd10>"
      ]
     },
     "execution_count": 18,
     "metadata": {},
     "output_type": "execute_result"
    },
    {
     "data": {
      "image/png": "[encoded data removed]",
      "text/plain": [
       "<Figure size 432x288 with 1 Axes>"
      ]
     },
     "metadata": {
      "image/png": {
       "height": 262,
       "width": 377
      },
      "needs_background": "light"
     },
     "output_type": "display_data"
    }
   ],
   "source": [
    "sns.scatterplot(data=gdata,x='age5_surviving', y='babies_per_woman', hue='region', size='population')"
   ]
  },
  {
   "cell_type": "code",
   "execution_count": null,
   "metadata": {},
   "outputs": [],
   "source": []
  }
 ],
 "metadata": {
  "kernelspec": {
   "display_name": "Python 3",
   "language": "python",
   "name": "python3"
  },
  "language_info": {
   "codemirror_mode": {
    "name": "ipython",
    "version": 3
   },
   "file_extension": ".py",
   "mimetype": "text/x-python",
   "name": "python",
   "nbconvert_exporter": "python",
   "pygments_lexer": "ipython3",
   "version": "3.7.4"
  }
 },
 "nbformat": 4,
 "nbformat_minor": 4
}
