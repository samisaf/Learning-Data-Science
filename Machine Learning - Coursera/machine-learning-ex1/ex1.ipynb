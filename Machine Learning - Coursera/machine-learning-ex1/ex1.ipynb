{
 "cells": [
  {
   "cell_type": "markdown",
   "metadata": {},
   "source": [
    "# Programming Exercise 1: Linear Regression\n",
    "\n",
    "# Introduction\n",
    "In this exercise, you will implement linear regression and get to see it work on data.\n",
    "\n",
    "# 1 Simple functions\n",
    "We can use `vstack`, `reshape`, or `transpose` numpy functions. Additionally, you can use broadcasting to reshape the array. We will also define a helper function `paddOnes` that adds a column of ones to the start of the matrix. We will also define a helper function `head` that displays the first 5 rows of a dataset."
   ]
  },
  {
   "cell_type": "code",
   "execution_count": 23,
   "metadata": {},
   "outputs": [],
   "source": [
    "import numpy as np\n",
    "from matplotlib import pyplot as plt\n",
    "from mpl_toolkits.mplot3d import Axes3D\n",
    "from sklearn.linear_model import LinearRegression\n",
    "from scipy import optimize"
   ]
  },
  {
   "cell_type": "code",
   "execution_count": 24,
   "metadata": {},
   "outputs": [
    {
     "data": {
      "text/plain": [
       "array([[0],\n",
       "       [1],\n",
       "       [2],\n",
       "       [3],\n",
       "       [4]])"
      ]
     },
     "execution_count": 24,
     "metadata": {},
     "output_type": "execute_result"
    }
   ],
   "source": [
    "arr = np.arange(5)\n",
    "# all the lines below are equivalent\n",
    "np.vstack(arr)\n",
    "arr.reshape(len(arr), 1)\n",
    "np.transpose([arr])\n",
    "arr[:, None]"
   ]
  },
  {
   "cell_type": "code",
   "execution_count": 25,
   "metadata": {},
   "outputs": [
    {
     "data": {
      "text/plain": [
       "array([[1., 1., 2.],\n",
       "       [1., 3., 4.],\n",
       "       [1., 5., 6.]])"
      ]
     },
     "execution_count": 25,
     "metadata": {},
     "output_type": "execute_result"
    }
   ],
   "source": [
    "def padOnes(X):\n",
    "    m = len(X) # number of observations\n",
    "    ones = np.vstack(np.ones(m))\n",
    "    return np.append(ones, X, axis=1)\n",
    "\n",
    "padOnes([[1, 2], [3, 4], [5, 6]])"
   ]
  },
  {
   "cell_type": "code",
   "execution_count": 26,
   "metadata": {},
   "outputs": [
    {
     "data": {
      "text/plain": [
       "[[1, 2], [3, 4], [5, 6], [7, 8], [9, 10]]"
      ]
     },
     "execution_count": 26,
     "metadata": {},
     "output_type": "execute_result"
    }
   ],
   "source": [
    "def head(matrix, n=5):\n",
    "    if len(matrix) < n: return matrix\n",
    "    else: return matrix[:n]\n",
    "    \n",
    "head([[1, 2], [3, 4], [5, 6], [7, 8], [9, 10], [11, 12]])"
   ]
  },
  {
   "cell_type": "markdown",
   "metadata": {},
   "source": [
    "# 2 Linear regression with one variable\n",
    "We will implement linear regression with one variable to predict profits for a food truck. Suppose you are the CEO of a restaurant franchise and are considering different cities for opening a new\n",
    "outlet. The chain already has trucks in various cities and you have data for profits and populations from the cities. You would like to use this data to help you select which city to expand to next.\n",
    "\n",
    "The file `ex1data1.txt` contains the dataset for our linear regression problem. The first column is the population of a city and the second column is the profit of a food truck in that city. A negative value for profit indicates a loss.\n",
    "\n",
    "## 2.1 Plotting the Data\n",
    "Before starting on any task, it is often useful to understand the data by visualizing it. For this dataset, you can use a scatter plot to visualize the data, since it has only two properties to plot (profit and population). Many\n",
    "other problems that you will encounter in real life are multi-dimensional and can’t be plotted on a 2-d plot."
   ]
  },
  {
   "cell_type": "code",
   "execution_count": 27,
   "metadata": {},
   "outputs": [
    {
     "name": "stdout",
     "output_type": "stream",
     "text": [
      "[[ 6.1101 17.592 ]\n",
      " [ 5.5277  9.1302]\n",
      " [ 8.5186 13.662 ]\n",
      " [ 7.0032 11.854 ]\n",
      " [ 5.8598  6.8233]]\n"
     ]
    },
    {
     "data": {
      "image/png": "[encoded data removed]",
      "text/plain": [
       "<Figure size 540x360 with 1 Axes>"
      ]
     },
     "metadata": {
      "needs_background": "light"
     },
     "output_type": "display_data"
    }
   ],
   "source": [
    "# reading the textfile, and then plotting the data\n",
    "data = np.genfromtxt('ex1data1.txt', delimiter=\",\")\n",
    "print(head(data))\n",
    "\n",
    "# extracting X, and y\n",
    "X = data[:, 0]\n",
    "y = data[:, 1]\n",
    "\n",
    "# plotting\n",
    "plt.figure(dpi=90)\n",
    "plt.scatter(X, y, alpha=0.7)\n",
    "plt.ylabel('Profit in $10,000s')\n",
    "plt.xlabel('Population of City in 10,000s')\n",
    "plt.show()"
   ]
  },
  {
   "cell_type": "markdown",
   "metadata": {},
   "source": [
    "## 2.2 Gradient Descent\n",
    "We will fit the linear regression parameters θ to our dataset using gradient descent.\n",
    "### 2.2.1 Update Equations\n",
    "The objective of linear regression is to minimize the cost function:\n",
    "\n",
    "$$ J(\\theta) = {1\\over2m} \\times \\sum_{i=1}^{m} {(h_\\theta(x^i) - y^i)^2} $$\n",
    "\n",
    "\n",
    "where the hypothesis $h_\\theta(x)$ is given by the linear model:\n",
    "\n",
    "$$ h_\\theta(x) = \\theta^T.x = \\theta_0 + \\theta_1.x$$\n",
    "\n",
    "\n",
    "Recall that the parameters of your model are the θj values. These are the values you will adjust to minimize cost J(θ). One way to do this is to use the batch gradient descent algorithm. In batch gradient descent, each\n",
    "iteration performs the update:\n",
    "\n",
    "$$ \\theta_j = \\theta_j − α{1\\over m} \\times \\sum_{i=1}^{m} {(h_\\theta(x^i) - y^i).x_j^i} $$\n",
    "\n",
    "Note that we simultaneously update $\\theta_j$ for all $j$. With each step of gradient descent, your parameters $\\theta_j$ come closer to the optimal values that will achieve the lowest cost J(θ).\n",
    "\n",
    "### 2.2.2 Computing the cost J(θ)\n",
    "As we perform gradient descent to learn minimize the cost function J(θ), it is helpful to monitor the convergence by computing the cost. In this section, we implement a function to calculate J(θ) so we can check the convergence of your gradient descent implementation. The function `computeCost` computes J(θ). As you are doing this, remember that the variables X and y are not scalar values, but matrices whose rows represent the examples from the training set.\n",
    "\n",
    "Once we have completed the function, the next step will be to run `computeCost` once using θ initialized to zeros, and we will see the cost printed to the screen. You should expect to see a cost of `32.07`.\n",
    "\n",
    "**Implementation Note:** We store each example as a row in the the X matrix. To take into account the intercept term (θ0), we add an additional first column to X and set it to all ones. This allows\n",
    "us to treat θ0 as simply another ‘feature’."
   ]
  },
  {
   "cell_type": "code",
   "execution_count": 28,
   "metadata": {},
   "outputs": [
    {
     "name": "stdout",
     "output_type": "stream",
     "text": [
      "[[1.     6.1101]\n",
      " [1.     5.5277]\n",
      " [1.     8.5186]\n",
      " [1.     7.0032]\n",
      " [1.     5.8598]]\n"
     ]
    },
    {
     "data": {
      "text/plain": [
       "32.072733877455654"
      ]
     },
     "execution_count": 28,
     "metadata": {},
     "output_type": "execute_result"
    }
   ],
   "source": [
    "def computeCost(X, y, theta):\n",
    "    \"\"\"COMPUTECOST Compute cost for linear regression\n",
    "    COMPUTECOST(X, y, theta) computes the cost of using theta as the\n",
    "    parameter for linear regression to fit the data points in X and y\"\"\"\n",
    "    m = len(y)\n",
    "    dot = X.dot(theta)\n",
    "    costs = np.power(dot - y, 2)\n",
    "    return (sum(costs)) / (2*m)\n",
    "\n",
    "theta = [0, 0]\n",
    "X = padOnes(np.vstack(X))\n",
    "print(head(X))\n",
    "computeCost(X, y, theta)"
   ]
  },
  {
   "cell_type": "markdown",
   "metadata": {},
   "source": [
    "### 2.2.3 Implementing gradient descent\n",
    "Next, you will implement gradient descent. As you program, make sure you understand what you are trying to optimize and what is being updated. Keep in mind that the cost J(θ) is parameterized by the vector θ, not X and y. That is, we minimize the value of J(θ) by changing the values of the vector θ, not by changing X or y. \n",
    "\n",
    "A good way to verify that gradient descent is working correctly is to look at the value of J(θ) and check that it is decreasing with each step. Assuming you have implemented gradient descent and\n",
    "computeCost correctly, your value of J(θ) should never increase, and should converge to a steady value by the end of the algorithm."
   ]
  },
  {
   "cell_type": "code",
   "execution_count": 29,
   "metadata": {},
   "outputs": [
    {
     "data": {
      "text/plain": [
       "-5.83913505154639"
      ]
     },
     "execution_count": 29,
     "metadata": {},
     "output_type": "execute_result"
    }
   ],
   "source": [
    "def computeCostDerivative(X, y, theta, j):\n",
    "    m = len(y)\n",
    "    dcosts = np.multiply((X.dot(theta) - y), X[:, j])\n",
    "    return sum(dcosts) / m \n",
    "\n",
    "computeCostDerivative(X, y, theta, 0)"
   ]
  },
  {
   "cell_type": "code",
   "execution_count": 30,
   "metadata": {},
   "outputs": [
    {
     "data": {
      "text/plain": [
       "array([-3.89533464,  1.1929889 ])"
      ]
     },
     "execution_count": 30,
     "metadata": {},
     "output_type": "execute_result"
    }
   ],
   "source": [
    "def gradientDescent(X, y, theta = None, alpha = 0.01, num_iters = 5000, verbose = False):\n",
    "    \"\"\"\n",
    "    GRADIENTDESCENT Performs gradient descent to learn theta\n",
    "    theta = GRADIENTDESCENT(X, y, theta, alpha, num_iters) updates theta by \n",
    "    taking num_iters gradient steps with learning rate alpha\n",
    "    \"\"\"\n",
    "    m = len(y) # number of training examples\n",
    "    if theta==None: theta = np.zeros(X.shape[1])\n",
    "    theta_temp = theta\n",
    "    \n",
    "    for i in range(num_iters):\n",
    "        if verbose:\n",
    "            cost = computeCost(X, y, theta)\n",
    "            print('Iteration {}, Cost {:f}'.format(i, cost))\n",
    "        for j in range(len(theta)):\n",
    "            theta_temp[j] = theta[j] - alpha * computeCostDerivative(X, y, theta, j)\n",
    "        theta = theta_temp\n",
    "    return theta\n",
    "\n",
    "gradientDescent(X, y)"
   ]
  },
  {
   "cell_type": "markdown",
   "metadata": {},
   "source": [
    "### Putting it together\n",
    "We will derive the final parameters, and use them to plot the linear fit. The final values for θ will also be used to make predictions on profits in areas of 35,000 and 70,000 people."
   ]
  },
  {
   "cell_type": "code",
   "execution_count": 31,
   "metadata": {},
   "outputs": [
    {
     "name": "stdout",
     "output_type": "stream",
     "text": [
      "\n",
      "Testing the cost function ...\n",
      "\n",
      "With theta = [0 ; 0]\n",
      "Cost computed =  32.072733877455654\n",
      "Expected cost value (approx) 32.07\n",
      "\n",
      "\n",
      "With theta = [-1 ; 2]\n",
      "Cost computed =  54.24245508201238\n",
      "Expected cost value (approx) 54.24\n",
      "\n",
      "\n",
      "Running Gradient Descent ...\n",
      "\n",
      "Theta found by gradient descent:\n",
      " [-3.7138233811201404, 1.174786928948256]\n",
      "Expected theta values (approx):\n",
      " -3.6303, 1.1664\n",
      "\n",
      "\n",
      "For population = 35,000, we predict a profit of  3979.308701987554\n",
      "For population = 70,000, we predict a profit of  45096.85121517651\n"
     ]
    },
    {
     "data": {
      "image/png": "[encoded data removed]",
      "text/plain": [
       "<Figure size 540x360 with 1 Axes>"
      ]
     },
     "metadata": {
      "needs_background": "light"
     },
     "output_type": "display_data"
    }
   ],
   "source": [
    "iterations, alpha = 1500, 0.01 # Some gradient descent settings\n",
    "\n",
    "print('\\nTesting the cost function ...\\n')\n",
    "\n",
    "# compute and display initial cost\n",
    "theta = [0, 0]\n",
    "J = computeCost(X, y, theta);\n",
    "print('With theta = [0 ; 0]\\nCost computed = ', J);\n",
    "print('Expected cost value (approx) 32.07\\n');\n",
    "\n",
    "# further testing of the cost function\n",
    "theta = [-1, 2]\n",
    "J = computeCost(X, y, theta);\n",
    "print('\\nWith theta = [-1 ; 2]\\nCost computed = ', J);\n",
    "print('Expected cost value (approx) 54.24\\n');\n",
    "\n",
    "print('\\nRunning Gradient Descent ...\\n')\n",
    "# run gradient descent\n",
    "theta = gradientDescent(X, y, theta, alpha, iterations);\n",
    "\n",
    "# print theta to screen\n",
    "print('Theta found by gradient descent:\\n', theta);\n",
    "\n",
    "print('Expected theta values (approx):');\n",
    "print(' -3.6303, 1.1664\\n\\n');\n",
    "\n",
    "# Predict values for population sizes of 35,000 and 70,000\n",
    "predict1 = np.dot([1, 3.5], theta);\n",
    "print('For population = 35,000, we predict a profit of ', predict1*10000);\n",
    "predict2 = np.dot([1, 7], theta);\n",
    "print('For population = 70,000, we predict a profit of ', predict2*10000);\n",
    "\n",
    "# Plot the linear fit\n",
    "plt.figure(dpi=90)\n",
    "plt.scatter(X[:,1], y, alpha=0.7, label='Training data')\n",
    "plt.plot(X[:,1], X.dot(theta), 'r-', alpha=0.7, label='Linear regression')\n",
    "plt.ylabel('Profit in $10,000s')\n",
    "plt.xlabel('Population of City in 10,000s')\n",
    "plt.legend()\n",
    "plt.show()"
   ]
  },
  {
   "cell_type": "markdown",
   "metadata": {},
   "source": [
    "## Visualizing J(θ)\n",
    "To understand the cost function J(θ) better, you will now plot the cost over a 2-dimensional grid of θ0 and θ1 values. \n",
    "\n",
    "After these lines are executed, you will have a 2-D array of J(θ) values. The script will then use these values to produce surface and contour plots of J(θ).\n",
    "\n",
    "The purpose of these graphs is to show you that how J(θ) varies with changes in θ0 and θ1. The cost function J(θ) is bowl-shaped and has a global mininum. (This is easier to see in the contour plot than in the 3D surface plot). This minimum is the optimal point for θ0 and θ1, and each step of\n",
    "gradient descent moves closer to this point."
   ]
  },
  {
   "cell_type": "code",
   "execution_count": 32,
   "metadata": {},
   "outputs": [
    {
     "name": "stdout",
     "output_type": "stream",
     "text": [
      "Visualizing J(theta_0, theta_1) ...\n",
      "\n",
      "[-3.7138233811201404, 1.174786928948256]\n"
     ]
    },
    {
     "data": {
      "image/png": "[encoded data removed]",
      "text/plain": [
       "<Figure size 432x288 with 1 Axes>"
      ]
     },
     "metadata": {
      "needs_background": "light"
     },
     "output_type": "display_data"
    },
    {
     "data": {
      "image/png": "[encoded data removed]",
      "text/plain": [
       "<Figure size 432x288 with 1 Axes>"
      ]
     },
     "metadata": {
      "needs_background": "light"
     },
     "output_type": "display_data"
    }
   ],
   "source": [
    "print('Visualizing J(theta_0, theta_1) ...\\n')\n",
    "\n",
    "# Grid over which we will calculate J\n",
    "theta0_vals = np.linspace(-10, 10, 100)\n",
    "theta1_vals = np.linspace(-1, 4, 100)\n",
    "\n",
    "# initialize J_vals to a matrix of 0's\n",
    "J_vals = np.zeros((len(theta0_vals), len(theta1_vals)))\n",
    "\n",
    "# Fill out J_vals\n",
    "for i in range(len(theta0_vals)):\n",
    "    for j in range(len(theta1_vals)):\n",
    "        t = [theta0_vals[i], theta1_vals[j]]\n",
    "        J_vals[i,j] = computeCost(X, y, t)\n",
    "        \n",
    "plt.plot(theta[0], theta[1], 'rx')\n",
    "plt.contour(theta0_vals, theta1_vals, J_vals, np.logspace(-2, 3, 20))\n",
    "plt.xlabel(r'$\\theta_0$'); plt.ylabel(r'$\\theta_1$');\n",
    "\n",
    "fig = plt.figure()\n",
    "ax = fig.add_subplot(111, projection='3d')\n",
    "plt.xlabel(r'$\\theta_0$'); plt.ylabel(r'$\\theta_1$');\n",
    "ax.plot_surface(theta0_vals, theta1_vals, J_vals)\n",
    "\n",
    "print(theta)"
   ]
  },
  {
   "cell_type": "markdown",
   "metadata": {},
   "source": [
    "## Normal Equations\n",
    "In the lecture videos, you learned that the closed-form solution to linear regression is:\n",
    "$$ \\theta = (X^TX)^{-1}.(X^Ty) $$\n",
    "\n",
    "Using this formula does not require any feature scaling, and you will get an exact solution in one calculation: there is no “loop until convergence” like in gradient descent. Remember that while you don’t need to scale your features, we still need to add a column of 1’s to the X matrix to have an intercept term (θ0)."
   ]
  },
  {
   "cell_type": "code",
   "execution_count": 33,
   "metadata": {},
   "outputs": [],
   "source": [
    "def normalEq(X, y):\n",
    "    X = np.matrix(X)\n",
    "    y = np.matrix(y).T\n",
    "    thetas = (X.T*X).I * (X.T*y)\n",
    "    return thetas.T"
   ]
  },
  {
   "cell_type": "code",
   "execution_count": 34,
   "metadata": {},
   "outputs": [],
   "source": [
    "def normalEq(X, y):\n",
    "    term1 = X.T.dot(X)\n",
    "    term2 = X.T.dot(y)\n",
    "    inv = np.linalg.inv\n",
    "    thetas = inv(term1).dot(term2)\n",
    "    return thetas"
   ]
  },
  {
   "cell_type": "code",
   "execution_count": 35,
   "metadata": {},
   "outputs": [
    {
     "name": "stdout",
     "output_type": "stream",
     "text": [
      "CPU times: user 0 ns, sys: 0 ns, total: 0 ns\n",
      "Wall time: 319 µs\n",
      "[-3.89578088  1.19303364]\n"
     ]
    },
    {
     "data": {
      "text/plain": [
       "4.47697137597518"
      ]
     },
     "execution_count": 35,
     "metadata": {},
     "output_type": "execute_result"
    }
   ],
   "source": [
    "%time th1 = normalEq(X, y)\n",
    "print(th1)\n",
    "computeCost(X, y, th1)"
   ]
  },
  {
   "cell_type": "code",
   "execution_count": 36,
   "metadata": {},
   "outputs": [
    {
     "name": "stdout",
     "output_type": "stream",
     "text": [
      "CPU times: user 160 ms, sys: 0 ns, total: 160 ms\n",
      "Wall time: 162 ms\n",
      "[-3.89533464  1.1929889 ]\n"
     ]
    },
    {
     "data": {
      "text/plain": [
       "4.47697139410345"
      ]
     },
     "execution_count": 36,
     "metadata": {},
     "output_type": "execute_result"
    }
   ],
   "source": [
    "%time th2 = gradientDescent(X, y)\n",
    "print(th2)\n",
    "computeCost(X, y, th2)"
   ]
  },
  {
   "cell_type": "markdown",
   "metadata": {},
   "source": [
    "## Comparing 3 ways to obtain θ"
   ]
  },
  {
   "cell_type": "code",
   "execution_count": 37,
   "metadata": {},
   "outputs": [
    {
     "name": "stdout",
     "output_type": "stream",
     "text": [
      "[-3.89533464  1.1929889 ]\n",
      "[-3.89578088  1.19303364]\n",
      "-3.8957808783118484 [1.19303364]\n"
     ]
    }
   ],
   "source": [
    "# using gradient descent\n",
    "print(gradientDescent(X, y))\n",
    "\n",
    "# using normalizing equation\n",
    "print(normalEq(X, y))\n",
    "\n",
    "# using the sklearn library\n",
    "unpaddedX = np.vstack(data[:,0])\n",
    "model = LinearRegression().fit(unpaddedX, y)\n",
    "print(model.intercept_, model.coef_)"
   ]
  },
  {
   "cell_type": "markdown",
   "metadata": {},
   "source": [
    "# Linear regression with multiple variables\n",
    "In this part, you will implement linear regression with multiple variables to predict the prices of houses. Suppose you are selling your house and you want to know what a good market price would be. One way to do this is to first collect information on recent houses sold and make a model of housing\n",
    "prices.\n",
    "\n",
    "The file `ex1data2.txt` contains a training set of housing prices in Portland, Oregon. The first column is the size of the house (in square feet), the second column is the number of bedrooms, and the third column is the price of the house.\n"
   ]
  },
  {
   "cell_type": "code",
   "execution_count": 38,
   "metadata": {},
   "outputs": [
    {
     "name": "stdout",
     "output_type": "stream",
     "text": [
      "SQFT of house N bedrooms price\n",
      "[[2.104e+03 3.000e+00 3.999e+05]\n",
      " [1.600e+03 3.000e+00 3.299e+05]\n",
      " [2.400e+03 3.000e+00 3.690e+05]\n",
      " [1.416e+03 2.000e+00 2.320e+05]\n",
      " [3.000e+03 4.000e+00 5.399e+05]]\n"
     ]
    }
   ],
   "source": [
    "# importing the data\n",
    "data = np.genfromtxt('ex1data2.txt', delimiter=\",\")\n",
    "X = data[:, 0:2]\n",
    "y = data[:, 2]\n",
    "print('SQFT of house', 'N bedrooms', 'price')\n",
    "print(data[:5])"
   ]
  },
  {
   "cell_type": "markdown",
   "metadata": {},
   "source": [
    "## Feature Normalization\n",
    "When features diﬀer by orders of magnitude, ﬁrst performing feature scaling can make gradient descent converge much more quickly.\n",
    "The function featureNormalize.m will\n",
    "- Subtract the mean value of each feature from the dataset.\n",
    "- After subtracting the mean, additionally scale (divide) the feature values by their respective “standard deviations.”\n",
    "\n",
    "The standard deviation is a way of measuring how much variation there is in the range of values of a particular feature (most data points will lie within ±2 standard deviations of the mean); this is an alternative to taking the range of values (max-min). Note that each column of the matrix X corresponds to one feature.\n",
    "\n",
    "**Implementation Note:** When normalizing the features, it is important to store the values used for normalization - the mean value and the standard deviation used for the computations. After learning the parameters from the model, we often want to predict the prices of houses we have not seen before. Given a new x value (living room area and number of bedrooms), we must ﬁrst normalize x using the mean and standard deviation that we had previously computed from the training set.\n"
   ]
  },
  {
   "cell_type": "code",
   "execution_count": 39,
   "metadata": {},
   "outputs": [
    {
     "name": "stdout",
     "output_type": "stream",
     "text": [
      "[[ 0.13141542 -0.22609337]\n",
      " [-0.5096407  -0.22609337]\n",
      " [ 0.5079087  -0.22609337]\n",
      " [-0.74367706 -1.5543919 ]\n",
      " [ 1.27107075  1.10220517]]\n",
      "mean = [2000.68085106    3.17021277]\n",
      "SD = [7.86202619e+02 7.52842809e-01]\n"
     ]
    }
   ],
   "source": [
    "def featureNormalize(X):\n",
    "    \"\"\"\n",
    "    FEATURENORMALIZE Normalizes the features in X. \n",
    "    FEATURENORMALIZE(X) returns a normalized version of X where the mean value of each feature is 0 and the standard deviation is 1.\n",
    "    \"\"\"\n",
    "    mu = np.mean(X, axis=0)\n",
    "    sigma = np.std(X, axis=0)\n",
    "    X_norm = (X - mu) / sigma\n",
    "    return X_norm, mu, sigma\n",
    "\n",
    "X_norm, mu, sigma = featureNormalize(X)\n",
    "print(X_norm[:5])\n",
    "print('mean =', mu)\n",
    "print('SD =', sigma)"
   ]
  },
  {
   "cell_type": "markdown",
   "metadata": {},
   "source": [
    "## Gradient Descent\n",
    "Previously, you implemented gradient descent on a univariate regression problem. The only diﬀerence now is that there is one more feature in the matrix X. The hypothesis function and the batch gradient descent update rule remain unchanged. The code in `gradientDescentMulti`  implement the cost function and gradient descent for linear regression with multiple variables. If your code in the previous part (single variable) already supports multiple variables, you can use it here too. Make sure your code supports any number of features and is well-vectorized. You can use `X.shape[1]` to ﬁnd out how many features are present in the dataset"
   ]
  },
  {
   "cell_type": "code",
   "execution_count": 40,
   "metadata": {},
   "outputs": [
    {
     "data": {
      "text/plain": [
       "array([340412.65957447, 109447.79645521,  -6578.35483976])"
      ]
     },
     "execution_count": 40,
     "metadata": {},
     "output_type": "execute_result"
    }
   ],
   "source": [
    "def gradientDescentMulti(X, y, theta = None, alpha = 0.01, num_iters = 5000):\n",
    "\n",
    "    theta_norm = gradientDescent(paddedX_norm, y, theta, alpha, num_iters)\n",
    "    #theta = (theta_norm + mu) * sigma\n",
    "    return theta_norm\n",
    "\n",
    "X_norm, mu, sigma = featureNormalize(X)\n",
    "paddedX_norm = padOnes(X_norm)\n",
    "gradientDescentMulti(paddedX_norm, y)"
   ]
  },
  {
   "cell_type": "markdown",
   "metadata": {},
   "source": [
    "## Comparing 3 ways to obtain θ"
   ]
  },
  {
   "cell_type": "code",
   "execution_count": 41,
   "metadata": {},
   "outputs": [
    {
     "name": "stdout",
     "output_type": "stream",
     "text": [
      "[340412.65957447 109447.79645521  -6578.35483976]\n",
      "[89597.9095428    139.21067402 -8738.01911233]\n",
      "89597.90954279754 [  139.21067402 -8738.01911233]\n"
     ]
    }
   ],
   "source": [
    "# using gradient descent\n",
    "print(gradientDescentMulti(padOnes(featureNormalize(X)[0]), y))\n",
    "\n",
    "# using normalizing equation\n",
    "print(normalEq(padOnes(X), y))\n",
    "\n",
    "# using the sklearn library\n",
    "model = LinearRegression().fit(X, y)\n",
    "print(model.intercept_, model.coef_)"
   ]
  },
  {
   "cell_type": "markdown",
   "metadata": {},
   "source": [
    "## Optimizing the cost function using SciPy\n",
    "### Using `optimize.fmin`\n",
    "Note that we will have to provide `fmin` with a function whose input is what we want to optimize (i.e. θ), and hence, will have to define a partial function."
   ]
  },
  {
   "cell_type": "code",
   "execution_count": 42,
   "metadata": {},
   "outputs": [
    {
     "name": "stdout",
     "output_type": "stream",
     "text": [
      "65591548106.45744\n",
      "65591548106.45744\n"
     ]
    },
    {
     "data": {
      "text/plain": [
       "<function __main__.cost.<locals>.on(theta)>"
      ]
     },
     "execution_count": 42,
     "metadata": {},
     "output_type": "execute_result"
    }
   ],
   "source": [
    "def cost(X, y):\n",
    "    def on(theta):\n",
    "        m = len(y)\n",
    "        costs = np.power(X.dot(theta) - y, 2)\n",
    "        return (sum(costs)) / (2*m)\n",
    "    return on\n",
    "\n",
    "th0 = np.array([0.0, 0.0, 0.0])\n",
    "\n",
    "\n",
    "X_padded = padOnes(X)\n",
    "X_norm_padded = padOnes(featureNormalize(X)[0])\n",
    "\n",
    "print(cost(X_padded, y)(th0))\n",
    "print(cost(X_norm_padded, y)(th0))\n",
    "cost(X_padded, y)"
   ]
  },
  {
   "cell_type": "code",
   "execution_count": 60,
   "metadata": {},
   "outputs": [
    {
     "name": "stdout",
     "output_type": "stream",
     "text": [
      "Optimization terminated successfully.\n",
      "         Current function value: 2316496497.088879\n",
      "         Iterations: 281\n",
      "         Function evaluations: 529\n"
     ]
    },
    {
     "data": {
      "text/plain": [
       "array([-10061.604827  ,    147.18514127,  15615.38435001])"
      ]
     },
     "execution_count": 60,
     "metadata": {},
     "output_type": "execute_result"
    }
   ],
   "source": [
    "from scipy import optimize\n",
    "thiscost = cost(X_padded, y)\n",
    "optimize.fmin(thiscost, th0)"
   ]
  },
  {
   "cell_type": "code",
   "execution_count": 53,
   "metadata": {},
   "outputs": [
    {
     "name": "stdout",
     "output_type": "stream",
     "text": [
      "Warning: Maximum number of function evaluations has been exceeded.\n"
     ]
    },
    {
     "data": {
      "text/plain": [
       "array([318853.30467516, 170075.09886894, -89625.56968734])"
      ]
     },
     "execution_count": 53,
     "metadata": {},
     "output_type": "execute_result"
    }
   ],
   "source": [
    "thiscost_norm = cost(X_norm_padded, y)\n",
    "optimize.fmin(thiscost_norm, th0)"
   ]
  },
  {
   "cell_type": "markdown",
   "metadata": {},
   "source": [
    "### Using minimze with constrains\n",
    "\n",
    "We will use the `minimize` function from `SciPy` library. "
   ]
  },
  {
   "cell_type": "code",
   "execution_count": 62,
   "metadata": {},
   "outputs": [
    {
     "data": {
      "text/plain": [
       "     fun: 2043280105.5509946\n",
       "     jac: array([80., 96., 80.])\n",
       " message: 'Optimization terminated successfully.'\n",
       "    nfev: 156\n",
       "     nit: 17\n",
       "    njev: 17\n",
       "  status: 0\n",
       " success: True\n",
       "       x: array([89640.81316952,   139.20484897, -8746.84443427])"
      ]
     },
     "execution_count": 62,
     "metadata": {},
     "output_type": "execute_result"
    }
   ],
   "source": [
    "thiscost = cost(X_padded, y)\n",
    "# optimize with no constraints\n",
    "optimize.minimize(thiscost, th0, method='SLSQP')"
   ]
  },
  {
   "cell_type": "code",
   "execution_count": 65,
   "metadata": {},
   "outputs": [
    {
     "data": {
      "text/plain": [
       "     fun: 2043280050.624069\n",
       "     jac: array([ -80., -112.,  -80.])\n",
       " message: 'Optimization terminated successfully.'\n",
       "    nfev: 140\n",
       "     nit: 14\n",
       "    njev: 14\n",
       "  status: 0\n",
       " success: True\n",
       "       x: array([89598.72125472,   139.21052778, -8738.1670224 ])"
      ]
     },
     "execution_count": 65,
     "metadata": {},
     "output_type": "execute_result"
    }
   ],
   "source": [
    "thiscost = cost(X_padded, y)\n",
    "\n",
    "# define a constraint where the intercept, ie theta0 is positive\n",
    "# Equality constraint means that the constraint function result is to be zero \n",
    "# whereas inequality means that it is to be non-negative. \n",
    "con = {'type':'ineq', 'fun': lambda theta: theta[0]}\n",
    "\n",
    "optimize.minimize(thiscost, th0, method='SLSQP', constraints=con)"
   ]
  },
  {
   "cell_type": "code",
   "execution_count": 67,
   "metadata": {},
   "outputs": [
    {
     "data": {
      "text/plain": [
       "     fun: 2256975711.023834\n",
       "     jac: array([-4768.,    32.,    32.])\n",
       " message: 'Positive directional derivative for linesearch'\n",
       "    nfev: 249\n",
       "     nit: 25\n",
       "    njev: 21\n",
       "  status: 8\n",
       " success: False\n",
       "       x: array([1.09239975e-06, 1.40859271e+02, 1.69794537e+04])"
      ]
     },
     "execution_count": 67,
     "metadata": {},
     "output_type": "execute_result"
    }
   ],
   "source": [
    "thiscost = cost(X_padded, y)\n",
    "\n",
    "# define a constraint where the intercept, ie theta0 is negative\n",
    "con = {'type':'ineq', 'fun': lambda theta: -theta[0]}\n",
    "\n",
    "optimize.minimize(thiscost, th0, method='SLSQP', constraints=con)"
   ]
  }
 ],
 "metadata": {
  "kernelspec": {
   "display_name": "Python 3",
   "language": "python",
   "name": "python3"
  },
  "language_info": {
   "codemirror_mode": {
    "name": "ipython",
    "version": 3
   },
   "file_extension": ".py",
   "mimetype": "text/x-python",
   "name": "python",
   "nbconvert_exporter": "python",
   "pygments_lexer": "ipython3",
   "version": "3.7.3"
  }
 },
 "nbformat": 4,
 "nbformat_minor": 2
}
