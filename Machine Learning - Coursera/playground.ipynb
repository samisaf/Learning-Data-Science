{
 "cells": [
  {
   "cell_type": "code",
   "execution_count": 1,
   "metadata": {},
   "outputs": [
    {
     "name": "stdout",
     "output_type": "stream",
     "text": [
      "theta:\n",
      " [-25.14941364   0.20613637   0.20137516] \n",
      "\n",
      "Expected theta (approx):\n",
      " -25.161 0.206 0.201\n",
      "\n"
     ]
    }
   ],
   "source": [
    "!python models.py"
   ]
  },
  {
   "cell_type": "code",
   "execution_count": 2,
   "metadata": {},
   "outputs": [
    {
     "name": "stdout",
     "output_type": "stream",
     "text": [
      "theta:\n",
      " [-25.14941364   0.20613637   0.20137516] \n",
      "\n",
      "Expected theta (approx):\n",
      " -25.161 0.206 0.201\n",
      "\n"
     ]
    }
   ],
   "source": [
    "import numpy as np\n",
    "import scipy.io\n",
    "import scipy.optimize \n",
    "from models import LogisticRegression\n",
    "\n",
    "data = np.genfromtxt('ex2data1.txt', delimiter=',')\n",
    "X = data[:, :2]\n",
    "y = data[:, 2]\n",
    "\n",
    "# run the model\n",
    "theta = LogisticRegression(X, y)\n",
    "# print theta to screen\n",
    "print('theta:')\n",
    "print(' %s \\n' % theta)\n",
    "print('Expected theta (approx):')\n",
    "print(' -25.161 0.206 0.201\\n')"
   ]
  },
  {
   "cell_type": "code",
   "execution_count": 7,
   "metadata": {},
   "outputs": [
    {
     "data": {
      "text/plain": [
       "(array([-25.05219314]), array([[0.20535491, 0.2005838 ]]))"
      ]
     },
     "execution_count": 7,
     "metadata": {},
     "output_type": "execute_result"
    }
   ],
   "source": [
    "from sklearn.linear_model import LogisticRegression as LR\n",
    "model = LR(solver='lbfgs')\n",
    "model.fit(X, y)\n",
    "model.intercept_, model.coef_"
   ]
  },
  {
   "cell_type": "code",
   "execution_count": null,
   "metadata": {},
   "outputs": [],
   "source": []
  }
 ],
 "metadata": {
  "kernelspec": {
   "display_name": "Python 3",
   "language": "python",
   "name": "python3"
  },
  "language_info": {
   "codemirror_mode": {
    "name": "ipython",
    "version": 3
   },
   "file_extension": ".py",
   "mimetype": "text/x-python",
   "name": "python",
   "nbconvert_exporter": "python",
   "pygments_lexer": "ipython3",
   "version": "3.7.3"
  }
 },
 "nbformat": 4,
 "nbformat_minor": 2
}
