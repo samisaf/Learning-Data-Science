{
 "cells": [
  {
   "cell_type": "code",
   "execution_count": 1,
   "metadata": {},
   "outputs": [
    {
     "name": "stdout",
     "output_type": "stream",
     "text": [
      "models.py:66: RuntimeWarning: divide by zero encountered in log\n",
      "  costs = -y * np.log(hypo) - (1 - y) * np.log(1 - hypo)\n",
      "models.py:66: RuntimeWarning: invalid value encountered in multiply\n",
      "  costs = -y * np.log(hypo) - (1 - y) * np.log(1 - hypo)\n",
      "theta:\n",
      " [-25.16497607   0.2062607    0.20150122] \n",
      "\n",
      "Expected theta (approx):\n",
      " -25.161 0.206 0.201\n",
      "\n"
     ]
    }
   ],
   "source": [
    "!python models.py"
   ]
  },
  {
   "cell_type": "code",
   "execution_count": 2,
   "metadata": {},
   "outputs": [
    {
     "name": "stdout",
     "output_type": "stream",
     "text": [
      "theta:\n",
      " [-25.16497607   0.2062607    0.20150122] \n",
      "\n",
      "Expected theta (approx):\n",
      " -25.161 0.206 0.201\n",
      "\n"
     ]
    },
    {
     "name": "stderr",
     "output_type": "stream",
     "text": [
      "/Sami/Learning-Data-Science/Machine Learning - Coursera/models.py:66: RuntimeWarning: divide by zero encountered in log\n",
      "  costs = -y * np.log(hypo) - (1 - y) * np.log(1 - hypo)\n",
      "/Sami/Learning-Data-Science/Machine Learning - Coursera/models.py:66: RuntimeWarning: invalid value encountered in multiply\n",
      "  costs = -y * np.log(hypo) - (1 - y) * np.log(1 - hypo)\n"
     ]
    }
   ],
   "source": [
    "import numpy as np\n",
    "import scipy.io\n",
    "import scipy.optimize \n",
    "from models import LogisticRegression\n",
    "\n",
    "data = np.genfromtxt('ex2data1.txt', delimiter=',')\n",
    "X = data[:, :2]\n",
    "y = data[:, 2]\n",
    "\n",
    "# run the model\n",
    "theta = LogisticRegression(X, y)\n",
    "# print theta to screen\n",
    "print('theta:')\n",
    "print(' %s \\n' % theta)\n",
    "print('Expected theta (approx):')\n",
    "print(' -25.161 0.206 0.201\\n')"
   ]
  },
  {
   "cell_type": "code",
   "execution_count": null,
   "metadata": {},
   "outputs": [],
   "source": []
  }
 ],
 "metadata": {
  "kernelspec": {
   "display_name": "Python 3",
   "language": "python",
   "name": "python3"
  },
  "language_info": {
   "codemirror_mode": {
    "name": "ipython",
    "version": 3
   },
   "file_extension": ".py",
   "mimetype": "text/x-python",
   "name": "python",
   "nbconvert_exporter": "python",
   "pygments_lexer": "ipython3",
   "version": "3.7.3"
  }
 },
 "nbformat": 4,
 "nbformat_minor": 2
}
