{
 "cells": [
  {
   "cell_type": "markdown",
   "metadata": {},
   "source": [
    "# Programming Exercise 2: Logistic Regression\n",
    "## Introduction\n",
    "In this exercise, we will implement logistic regression and apply it to two different datasets. "
   ]
  },
  {
   "cell_type": "markdown",
   "metadata": {},
   "source": [
    "## 1 Logistic Regression\n",
    "In this part of the exercise, we will build a logistic regression model to predict whether a student gets admitted into a university. Suppose that you are the administrator of a university department and you want to determine each applicant’s chance of admission based on their results on two exams. You have historical data from previous applicants that you can use as a training set for logistic regression. For each training example, you have the applicant’s scores on two exams and the admissions decision.\n",
    "\n",
    "Our task is to build a classification model that estimates an applicant’s probability of admission based the scores from those two exams. \n",
    "\n",
    "### 1.1 Visualizing the data\n",
    "Before starting to implement any learning algorithm, it is always good to visualize the data if possible. The code below will load the data and display it on a 2-dimensional plot by calling the function `plotData`. In the `Figure 1`, the axes are the two exam scores, and the positive and negative examples are shown with different markers."
   ]
  },
  {
   "cell_type": "code",
   "execution_count": 1,
   "metadata": {},
   "outputs": [],
   "source": [
    "# import libraries, and define helper functions\n",
    "import numpy as np\n",
    "from matplotlib import pyplot as plt\n",
    "from scipy import optimize\n",
    "\n",
    "def head(matrix, n=5):\n",
    "    if len(matrix) < n: return matrix\n",
    "    else: return matrix[:n]\n",
    "    \n",
    "def padOnes(X):\n",
    "    m = len(X) # number of observations\n",
    "    ones = np.vstack(np.ones(m))\n",
    "    return np.append(ones, X, axis=1)"
   ]
  },
  {
   "cell_type": "code",
   "execution_count": 2,
   "metadata": {},
   "outputs": [
    {
     "name": "stdout",
     "output_type": "stream",
     "text": [
      "[[34.62365962 78.02469282]\n",
      " [30.28671077 43.89499752]\n",
      " [35.84740877 72.90219803]\n",
      " [60.18259939 86.3085521 ]\n",
      " [79.03273605 75.34437644]]\n",
      "[0. 0. 0. 1. 1.]\n"
     ]
    },
    {
     "data": {
      "text/plain": [
       "Text(0, 0.5, 'Exam 2 score')"
      ]
     },
     "execution_count": 2,
     "metadata": {},
     "output_type": "execute_result"
    },
    {
     "data": {
      "image/png": "[encoded data removed]",
      "text/plain": [
       "<Figure size 432x288 with 1 Axes>"
      ]
     },
     "metadata": {
      "needs_background": "light"
     },
     "output_type": "display_data"
    }
   ],
   "source": [
    "data = np.genfromtxt('ex2data1.txt', delimiter=',')\n",
    "X = data[:, :2]\n",
    "y = data[:, 2]\n",
    "print(head(X))\n",
    "print(head(y))\n",
    "\n",
    "X1 = X[y==0]\n",
    "X2 = X[y==1]\n",
    "\n",
    "# plt.figure(dpi=90, figsize=(7, 5))\n",
    "plt.scatter(X1[:, 0], X1[:, 1], label='not admitted')\n",
    "plt.scatter(X2[:, 0], X2[:, 1], label='admitted')\n",
    "plt.legend()\n",
    "\n",
    "plt.title(\"Figure 1: Scatter plot of training data\")\n",
    "plt.xlabel(\"Exam 1 score\")\n",
    "plt.ylabel(\"Exam 2 score\")"
   ]
  },
  {
   "cell_type": "markdown",
   "metadata": {},
   "source": [
    "## 1.2 Implementation\n",
    "### 1.2.1 Warmup exercise: sigmoid function\n",
    "Before you start with the actual cost function, recall that the logistic regression hypothesis is defined as:\n",
    "$$h_\\theta(x) = g(\\theta^TX)$$\n",
    "\n",
    "where function g is the sigmoid function. The sigmoid function is defined as:\n",
    "\n",
    "$$g(z) = {1 \\over 1 + e^{-z}}$$\n",
    "\n",
    "The first step is to implement this function, `sigmoid`, so it can be called by the rest of your program. When you are finished, try testing a few values by calling sigmoid(x). For large positive values of x, the sigmoid should be close to 1, while for large negative values, the sigmoid should be close to 0. Evaluating sigmoid(0) should give you exactly 0.5. Your code should also work with vectors and matrices. For a matrix, your function should perform the sigmoid function on every element."
   ]
  },
  {
   "cell_type": "code",
   "execution_count": 3,
   "metadata": {},
   "outputs": [
    {
     "name": "stdout",
     "output_type": "stream",
     "text": [
      "4.53978687024344e-05\n",
      "0.5\n",
      "0.9999546021312976\n"
     ]
    },
    {
     "data": {
      "text/plain": [
       "Text(0.5, 1.0, 'Sigmoid Function')"
      ]
     },
     "execution_count": 3,
     "metadata": {},
     "output_type": "execute_result"
    },
    {
     "data": {
      "image/png": "[encoded data removed]",
      "text/plain": [
       "<Figure size 432x288 with 1 Axes>"
      ]
     },
     "metadata": {
      "needs_background": "light"
     },
     "output_type": "display_data"
    }
   ],
   "source": [
    "def sigmoid(z):\n",
    "    return 1 / (1 + np.exp(z)**-1)\n",
    "\n",
    "print(sigmoid(-10))\n",
    "print(sigmoid(0))\n",
    "print(sigmoid(10))\n",
    "\n",
    "plt.plot(sigmoid(range(-10, 10)))\n",
    "plt.xlabel('z'); plt.ylabel('g(z)'); plt.title(\"Sigmoid Function\")"
   ]
  },
  {
   "cell_type": "markdown",
   "metadata": {},
   "source": [
    "### 1.2.2 Cost function and gradient\n",
    "Now we will implement the cost function and gradient for logistic regression. The function `costFunction` returns the cost and gradient. Recall that the cost function in logistic regression is:\n",
    "\n",
    "$$J(\\theta) = {1 \\over m} \\sum_{i=1}^m [-y^i log(h_\\theta(x^i)) - (1 - y^i) log(1 - h_\\theta (x^i))]$$\n",
    "\n",
    "and the gradient of the cost is a vector of the same length as θ where the $j^{th}$ element (for j = 0, 1, . . . , n) is defined as follows:\n",
    "\n",
    "$${\\partial J \\over \\partial \\theta_j} = {1 \\over m} \\sum_{i=1}^m (h_\\theta(x^i) - y^i) x_j^i$$\n",
    "\n",
    "Note that while this gradient looks identical to the linear regression gradient, the formula is actually different because linear and logistic regression have different definitions of hθ(x).\n",
    "\n",
    "We will call the `costFunction` using the initial parameters of θ. We should see that the cost is about 0.693."
   ]
  },
  {
   "cell_type": "code",
   "execution_count": 4,
   "metadata": {},
   "outputs": [],
   "source": [
    "def hypothesis(X, theta):\n",
    "    return sigmoid(X.dot(theta))\n",
    "\n",
    "def cost_lr(X, y, theta):\n",
    "    hypo = hypothesis(X, theta)\n",
    "    costs = -y * np.log(hypo) - (1 - y) * np.log(1 - hypo)\n",
    "    return sum(costs) / len(y)\n",
    "\n",
    "def gradient(X, y, theta):\n",
    "    gradients = []\n",
    "    m = len(y)\n",
    "    hypo = hypothesis(X, theta)\n",
    "    for j in range(len(theta)):\n",
    "        g = (hypo - y).dot(X[:, j]) / m\n",
    "        gradients.append(g)\n",
    "    return gradients\n",
    "\n",
    "def costFunction(X, y, theta):\n",
    "    return cost_lr(X, y, theta), gradient(X, y, theta)"
   ]
  },
  {
   "cell_type": "code",
   "execution_count": 5,
   "metadata": {},
   "outputs": [
    {
     "data": {
      "text/plain": [
       "(0.6931471805599458, [-12.009216589291155, -11.262842205513593])"
      ]
     },
     "execution_count": 5,
     "metadata": {},
     "output_type": "execute_result"
    }
   ],
   "source": [
    "th0 = np.array([0, 0])\n",
    "\n",
    "costFunction(X, y, th0)"
   ]
  },
  {
   "cell_type": "code",
   "execution_count": 6,
   "metadata": {},
   "outputs": [
    {
     "name": "stdout",
     "output_type": "stream",
     "text": [
      "First rows of X\n",
      " [[ 1.         34.62365962 78.02469282]\n",
      " [ 1.         30.28671077 43.89499752]\n",
      " [ 1.         35.84740877 72.90219803]\n",
      " [ 1.         60.18259939 86.3085521 ]\n",
      " [ 1.         79.03273605 75.34437644]] \n",
      "\n",
      "inital theta [0. 0. 0.] \n",
      "\n",
      "--------------------------------------------------------------------------------\n",
      "Cost at initial theta (zeros): 0.693147\n",
      "\n",
      "Expected cost (approx): 0.693\n",
      "\n",
      "Gradient at initial theta (zeros):\n",
      " [-0.1, -12.009216589291155, -11.262842205513593] \n",
      "\n",
      "Expected gradients (approx):\n",
      " -0.1000 -12.0092 -11.2628\n",
      "\n",
      "--------------------------------------------------------------------------------\n",
      "\n",
      "Cost at test theta: 0.218330\n",
      "\n",
      "Expected cost (approx): 0.218\n",
      "\n",
      "Gradient at test theta:\n",
      " [0.04290299489953446, 2.5662341155107566, 2.6467973710824335] \n",
      "\n",
      "Expected gradients (approx):\n",
      " 0.043 2.566 2.647\n",
      "\n"
     ]
    }
   ],
   "source": [
    "#  Setup the data matrix appropriately, and add ones for the intercept term\n",
    "m, n = X.shape\n",
    "\n",
    "# Add intercept term to X\n",
    "ones = np.ones((m, 1))\n",
    "paddedX = np.append(ones, X, axis=1)\n",
    "print('First rows of X\\n', head(paddedX), '\\n')\n",
    "\n",
    "# Initialize fitting parameters\n",
    "initial_theta = np.zeros(n + 1)\n",
    "print('inital theta', initial_theta, '\\n')\n",
    "\n",
    "# Compute and display initial cost and gradient\n",
    "cost, grad = costFunction(paddedX, y, initial_theta)\n",
    "print('-'*80)\n",
    "print('Cost at initial theta (zeros): %f\\n' % cost)\n",
    "print('Expected cost (approx): 0.693\\n')\n",
    "print('Gradient at initial theta (zeros):')\n",
    "print(' %s \\n' % grad)\n",
    "print('Expected gradients (approx):\\n -0.1000 -12.0092 -11.2628\\n')\n",
    "\n",
    "# Compute and display cost and gradient with non-zero theta\n",
    "test_theta = [-24, 0.2, 0.2]\n",
    "cost, grad = costFunction(paddedX, y, test_theta)\n",
    "\n",
    "print('-'*80)\n",
    "print('\\nCost at test theta: %f\\n' % cost)\n",
    "print('Expected cost (approx): 0.218\\n')\n",
    "print('Gradient at test theta:')\n",
    "print(' %s \\n' % grad)\n",
    "print('Expected gradients (approx):\\n 0.043 2.566 2.647\\n')"
   ]
  },
  {
   "cell_type": "markdown",
   "metadata": {},
   "source": [
    "### 1.2.3 Learning parameters using fmin\n",
    "In the previous assignment, we found the optimal parameters of a linear regression model by implementing gradent descent. we wrote a cost function and calculated its gradient, then took a gradient descent step accordingly.\n",
    "\n",
    "This time, instead of taking gradient descent steps, we will use a built-in function called fminunc. This is an optimization solver that finds the minimum of an **unconstrained function**. For logistic regression, we want to\n",
    "optimize the cost function J(θ) with parameters θ.\n",
    "\n",
    "Concretely, we are going to use fminunc to find the best parameters θ for the logistic regression cost function, given a fixed dataset (of X and y values). We will pass to fminunc the following inputs:\n",
    "- The initial values of the parameters we are trying to optimize.\n",
    "- A function that, when given the training set and a particular θ, computes the logistic regression cost and gradient with respect to θ for the dataset (X, y)\n",
    "\n",
    "**Constraints** in optimization often refer to constraints on the parameters, for example, constraints that bound the possible values θ can take (e.g., θ ≤ 1). Logistic regression does not have such constraints since θ is allowed to take any real value.\n",
    "\n",
    "To specify the actual function we are minimizing, we create a partial cost function to pass to the optimization function. `fmin` will converge on the right optimization parameters and return the final values of the cost and θ. Notice that by using `fmin`, we did not have to write any loops or set a learning rate like we did for gradient descent. This is all done by `fmin`: we only needed to provide a function calculating the cost and the gradient.\n",
    "\n",
    "We will call your costFunction function using the optimal parameters of θ. We should see that the cost is about\n",
    "0.203. This final θ value will then be used to plot the decision boundary on the training data, resulting in a figure similar to Figure 2. "
   ]
  },
  {
   "cell_type": "code",
   "execution_count": 7,
   "metadata": {},
   "outputs": [],
   "source": [
    "# define cost as a partial function so that we can pass it to the optimization function\n",
    "def pcost(X, y):\n",
    "    def on(theta):\n",
    "        hypo = hypothesis(X, theta)\n",
    "        costs = -y * np.log(hypo) - (1 - y) * np.log(1 - hypo)\n",
    "        return sum(costs) / len(y)\n",
    "    return on"
   ]
  },
  {
   "cell_type": "code",
   "execution_count": 8,
   "metadata": {},
   "outputs": [
    {
     "data": {
      "text/plain": [
       "0.6931471805599458"
      ]
     },
     "execution_count": 8,
     "metadata": {},
     "output_type": "execute_result"
    }
   ],
   "source": [
    "theta0 = np.zeros(n + 1)\n",
    "ones = np.ones((m, 1))\n",
    "paddedX = np.append(ones, X, axis=1)\n",
    "\n",
    "pcost(paddedX, y)(theta0)"
   ]
  },
  {
   "cell_type": "code",
   "execution_count": 9,
   "metadata": {},
   "outputs": [
    {
     "name": "stdout",
     "output_type": "stream",
     "text": [
      "Optimization terminated successfully.\n",
      "         Current function value: 0.203498\n",
      "         Iterations: 157\n",
      "         Function evaluations: 287\n",
      "[-25.16130062   0.20623142   0.20147143]\n",
      "0.2034977015902151\n"
     ]
    }
   ],
   "source": [
    "theta = optimize.fmin(pcost(paddedX, y), theta0)\n",
    "cost = cost_lr(paddedX, y, theta)\n",
    "print(theta)\n",
    "print(cost)"
   ]
  },
  {
   "cell_type": "code",
   "execution_count": 10,
   "metadata": {
    "scrolled": true
   },
   "outputs": [
    {
     "name": "stdout",
     "output_type": "stream",
     "text": [
      "Cost at theta found by fmin: 0.203498\n",
      "\n",
      "Expected cost (approx): 0.203\n",
      "\n",
      "theta:\n",
      " [-25.16130062   0.20623142   0.20147143] \n",
      "\n",
      "Expected theta (approx):\n",
      " -25.161 0.206 0.201\n",
      "\n"
     ]
    }
   ],
   "source": [
    "# Print theta to screen\n",
    "print('Cost at theta found by fmin: %f\\n' % cost)\n",
    "print('Expected cost (approx): 0.203\\n')\n",
    "print('theta:')\n",
    "print(' %s \\n' % theta)\n",
    "print('Expected theta (approx):')\n",
    "print(' -25.161 0.206 0.201\\n')"
   ]
  },
  {
   "cell_type": "code",
   "execution_count": 11,
   "metadata": {},
   "outputs": [],
   "source": [
    "def boundary_naive(X, theta, R=range(0, 100)):\n",
    "    xs = []\n",
    "    ys = []\n",
    "    for j1 in R:\n",
    "        for j2 in R:\n",
    "            arr = np.array([1, j1, j2])\n",
    "            prob = hypothesis(arr, theta)\n",
    "            if prob > 0.45 and prob < 0.55:\n",
    "                xs.append(j1)\n",
    "                ys.append(j2)\n",
    "    return xs, ys"
   ]
  },
  {
   "cell_type": "code",
   "execution_count": 12,
   "metadata": {},
   "outputs": [
    {
     "data": {
      "text/plain": [
       "<matplotlib.legend.Legend at 0x7fe2dccc8da0>"
      ]
     },
     "execution_count": 12,
     "metadata": {},
     "output_type": "execute_result"
    },
    {
     "data": {
      "image/png": "[encoded data removed]",
      "text/plain": [
       "<Figure size 432x288 with 1 Axes>"
      ]
     },
     "metadata": {
      "needs_background": "light"
     },
     "output_type": "display_data"
    }
   ],
   "source": [
    "# plot decision boundary\n",
    "xs, ys = boundary_naive(paddedX, theta)\n",
    "plt.plot(xs, ys, 'r')\n",
    "\n",
    "# plot data points\n",
    "plt.scatter(X1[:, 0], X1[:, 1], label='not admitted')\n",
    "plt.scatter(X2[:, 0], X2[:, 1], label='admitted')\n",
    "\n",
    "# label and legends\n",
    "plt.title(\"Figure 2: Training data with decision boundary\")\n",
    "plt.xlabel(\"Exam 1 score\")\n",
    "plt.ylabel(\"Exam 2 score\")\n",
    "plt.legend()\n"
   ]
  },
  {
   "cell_type": "markdown",
   "metadata": {},
   "source": [
    "### 1.2.4 Evaluating logistic regression\n",
    "After learning the parameters, you can use the model to predict whether a particular student will be admitted. For a student with an Exam 1 score of 45 and an Exam 2 score of 85, you should expect to see an admission probability of 0.776.\n",
    "\n",
    "Another way to evaluate the quality of the parameters we have found is to see how well the learned model predicts on our training set. In this part, the we define a new function `predict`. The predict function will produce “1” or “0” predictions given a dataset and a learned parameter vector θ.\n",
    "\n",
    "We then will proceed to report the training accuracy of your classifier by computing the\n",
    "percentage of examples it got correct."
   ]
  },
  {
   "cell_type": "code",
   "execution_count": 13,
   "metadata": {},
   "outputs": [
    {
     "data": {
      "text/plain": [
       "array([0, 0, 0, 1, 1, 0, 1, 0, 1, 1, 1, 0, 1, 1, 0, 1, 0, 0, 1, 1, 0, 1,\n",
       "       0, 0, 1, 1, 1, 1, 0, 0, 1, 1, 0, 0, 0, 0, 1, 1, 0, 0, 1, 0, 1, 1,\n",
       "       0, 0, 1, 1, 1, 1, 1, 1, 1, 0, 0, 0, 1, 1, 1, 1, 1, 0, 0, 0, 0, 0,\n",
       "       1, 0, 1, 1, 0, 1, 1, 1, 1, 1, 1, 1, 0, 1, 1, 1, 1, 0, 1, 1, 0, 1,\n",
       "       1, 0, 1, 1, 0, 1, 1, 1, 1, 1, 0, 1])"
      ]
     },
     "execution_count": 13,
     "metadata": {},
     "output_type": "execute_result"
    }
   ],
   "source": [
    "def predict(theta, X):\n",
    "    return (hypothesis(X, theta) > 0.5) + 0\n",
    "\n",
    "predict(theta, paddedX)"
   ]
  },
  {
   "cell_type": "code",
   "execution_count": 14,
   "metadata": {
    "scrolled": true
   },
   "outputs": [
    {
     "name": "stdout",
     "output_type": "stream",
     "text": [
      "For a student with scores 45 and 85, we predict an admission probability of: 0.776292\n",
      "Expected value: 0.775 +/- 0.002\n",
      "\n",
      "Train Accuracy: 89.000000\n",
      "\n",
      "Expected accuracy (approx): 89.0\n",
      "\n"
     ]
    }
   ],
   "source": [
    "x1 = np.array([1, 45, 85])\n",
    "prob = hypothesis(x1, theta);\n",
    "print('For a student with scores 45 and 85, we predict an admission probability of: %f' % prob);\n",
    "print('Expected value: 0.775 +/- 0.002\\n');\n",
    "\n",
    "# Compute accuracy on our training set\n",
    "p = predict(theta, paddedX);\n",
    "\n",
    "print('Train Accuracy: %f\\n' % (np.mean(p == y) * 100));\n",
    "print('Expected accuracy (approx): 89.0\\n');"
   ]
  },
  {
   "cell_type": "markdown",
   "metadata": {},
   "source": [
    "# 2 Regularized logistic regression\n",
    "In this part of the exercise, we will implement regularized logistic regression to predict whether microchips from a fabrication plant passes quality assurance (QA). During QA, each microchip goes through various tests to ensure it is functioning correctly.\n",
    "\n",
    "Suppose you are the product manager of the factory and you have the test results for some microchips on two different tests. From these two tests, you would like to determine whether the microchips should be accepted or\n",
    "rejected. To help you make the decision, you have a dataset of test results on past microchips, from which you can build a logistic regression model.\n",
    "\n",
    "## 2.1 Visualizing the data\n",
    "Similar to the previous parts of this exercise, `plotData` is used to generate a figure like Figure 3, where the axes are the two test scores, and the positive (y = 1, accepted) and negative (y = 0, rejected) examples are shown with different markers.\n",
    "\n",
    "Figure 3 shows that our dataset cannot be separated into positive and negative examples by a straight-line through the plot. Therefore, a straightforward application of logistic regression will not perform well on this dataset\n",
    "since logistic regression will only be able to find a linear decision boundary."
   ]
  },
  {
   "cell_type": "code",
   "execution_count": 15,
   "metadata": {},
   "outputs": [
    {
     "name": "stdout",
     "output_type": "stream",
     "text": [
      "[[ 0.051267  0.69956 ]\n",
      " [-0.092742  0.68494 ]\n",
      " [-0.21371   0.69225 ]\n",
      " [-0.375     0.50219 ]\n",
      " [-0.51325   0.46564 ]]\n",
      "[1. 1. 1. 1. 1.]\n"
     ]
    }
   ],
   "source": [
    "data = np.genfromtxt('ex2data2.txt', delimiter=',')\n",
    "X = data[:, :2]\n",
    "y = data[:, 2]\n",
    "print(head(X))\n",
    "print(head(y))"
   ]
  },
  {
   "cell_type": "code",
   "execution_count": 16,
   "metadata": {},
   "outputs": [],
   "source": [
    "def plotData(X, y):\n",
    "    X1 = X[y==0]\n",
    "    X2 = X[y==1]\n",
    "    plt.scatter(X1[:, 0], X1[:, 1])\n",
    "    plt.scatter(X2[:, 0], X2[:, 1])\n",
    "    return plt"
   ]
  },
  {
   "cell_type": "code",
   "execution_count": 17,
   "metadata": {},
   "outputs": [
    {
     "data": {
      "text/plain": [
       "Text(0, 0.5, 'Microchip Test 2')"
      ]
     },
     "execution_count": 17,
     "metadata": {},
     "output_type": "execute_result"
    },
    {
     "data": {
      "image/png": "[encoded data removed]",
      "text/plain": [
       "<Figure size 432x432 with 1 Axes>"
      ]
     },
     "metadata": {
      "needs_background": "light"
     },
     "output_type": "display_data"
    }
   ],
   "source": [
    "plt.figure(figsize=(6, 6))\n",
    "plotData(X, y)\n",
    "plt.title('Figure 3: Plot of training data')\n",
    "plt.xlabel('Microchip Test 1')\n",
    "plt.ylabel('Microchip Test 2')"
   ]
  },
  {
   "cell_type": "markdown",
   "metadata": {},
   "source": [
    "### 2.2 Feature mapping\n",
    "One way to fit the data better is to create more features from each data point. In the provided function `mapFeature`, we map the features into all polynomial terms of x1 and x2 up to the sixth power.\n",
    "\n",
    "As a result of this mapping, our vector of two features (the scores on two QA tests) has been transformed into a 28-dimensional vector. A logistic regression classifier trained on this higher-dimension feature vector will have a more complex decision boundary and will appear nonlinear when drawn in our 2-dimensional plot.\n",
    "\n",
    "While the feature mapping allows us to build a more expressive classifier, it also more susceptible to overfitting. In the next parts of the exercise, you will implement regularized logistic regression to fit the data and also see for yourself how regularization can help combat the overfitting problem."
   ]
  },
  {
   "cell_type": "code",
   "execution_count": 18,
   "metadata": {},
   "outputs": [
    {
     "data": {
      "text/plain": [
       "(118, 28)"
      ]
     },
     "execution_count": 18,
     "metadata": {},
     "output_type": "execute_result"
    }
   ],
   "source": [
    "def mapFeature(X1, X2, degree=6):\n",
    "    \"\"\"\n",
    "    MAPFEATURE Feature mapping function to polynomial features\n",
    "        MAPFEATURE(X1, X2) maps the two input features\n",
    "        to quadratic features used in the regularization exercise.\n",
    "\n",
    "        Returns a new feature array with more features, comprising of \n",
    "        X1, X2, X1.^2, X2.^2, X1*X2, X1*X2.^2, etc..\n",
    "\n",
    "        Inputs X1, X2 must be the same size\n",
    "    \"\"\"\n",
    "    out = []\n",
    "    for i in range(0, degree+1):\n",
    "        for j in range(0, i+1):\n",
    "            item = X1**(i-j) * X2**j\n",
    "            out.append(item)\n",
    "    return np.array(out).T\n",
    "\n",
    "\n",
    "mapFeature(X[:, 0], X[:, 1]).shape"
   ]
  },
  {
   "cell_type": "markdown",
   "metadata": {},
   "source": [
    "## 2.3 Cost function and gradient\n",
    "Now we will implement code to compute the cost function and gradient for regularized logistic regression. `costFunctionReg` returns the cost and gradient. Recall that the regularized cost function in logistic regression is:\n",
    "\n",
    "\n",
    "$$J(\\theta) = {1 \\over m} \\sum_{i=1}^m [-y^i log(h_\\theta(x^i)) - (1 - y^i) log(1 - h_\\theta (x^i))] + {\\lambda \\over 2m} \\sum_{j=1}^n \\theta_j^2$$\n",
    "\n",
    "Note that you should not regularize the parameter $\\theta_0$. The gradient of the cost function is a vector where the j\n",
    "th element is defined as follows:\n",
    "\n",
    "$${\\partial J \\over \\partial \\theta_j} = {1 \\over m} \\sum_{i=1}^m (h_\\theta(x^i) - y^i) x_j^i \\quad for \\ j = 0$$\n",
    "\n",
    "$${\\partial J \\over \\partial \\theta_j} = {1 \\over m} \\sum_{i=1}^m (h_\\theta(x^i) - y^i) x_j^i + {\\lambda \\over m} \\theta_j \\quad for \\ j \\geq 1$$\n",
    "\n",
    "We will call your costFunctionReg function using the initial value of θ (initialized to all zeros). We should see that the cost is about 0.693."
   ]
  },
  {
   "cell_type": "code",
   "execution_count": 1,
   "metadata": {},
   "outputs": [],
   "source": [
    "def sigmoid(z):\n",
    "    return 1 / (1 + np.exp(-z))\n",
    "\n",
    "def hypothesis(X, theta):\n",
    "    return sigmoid(X.dot(theta))\n",
    "\n",
    "def cost_lr_reg(X, y, theta, lam=1):\n",
    "    m = len(y)\n",
    "    hypo = hypothesis(X, theta)\n",
    "    costs = -y * np.log(hypo) - (1 - y) * np.log(1 - hypo)\n",
    "    \n",
    "    penalties = 0.5 * lam * theta[1:]**2\n",
    "    \n",
    "    return (sum(costs) + sum(penalties)) / m\n",
    "\n",
    "def gradient_reg(X, y, theta, lam=1):\n",
    "    gradients = []\n",
    "    m = len(y)\n",
    "    hypo = hypothesis(X, theta)\n",
    "    for j in range(len(theta)):\n",
    "        g = (hypo - y).dot(X[:, j]) / m\n",
    "        # adding the regularization penalty\n",
    "        p = 0\n",
    "        if j > 0: p = lam * theta[j] / m\n",
    "        gradients.append(g + p)\n",
    "    return gradients\n",
    "\n",
    "def gradient_reg_vec(X, y, theta, lam=0):\n",
    "    \"\"\"Vectorized gradient function\"\"\"\n",
    "    m = len(y)\n",
    "    hypo = hypothesis(X, theta)\n",
    "    gradients = X.T.dot(hypo - y) / m\n",
    "    penalties = np.append(0, lam * theta[1:]) / m\n",
    "    return gradients + penalties\n",
    "\n",
    "def costFunctionReg(theta, X, y, lam):\n",
    "    return cost_lr_reg(X, y, theta, lam), gradient_reg(X, y, theta, lam)"
   ]
  },
  {
   "cell_type": "code",
   "execution_count": 20,
   "metadata": {},
   "outputs": [
    {
     "name": "stdout",
     "output_type": "stream",
     "text": [
      "Cost at initial theta (zeros): 0.693147\n",
      "\n",
      "Expected cost (approx): 0.693\n",
      "\n",
      "Gradient at initial theta (zeros) - first five values only:\n",
      " [0.00847457627118644, 0.01878809322033899, 7.777118644068013e-05, 0.05034463953635592, 0.011501330787338986] \n",
      "\n",
      "Expected gradients (approx) - first five values only:\n",
      " 0.0085 0.0188 0.0001 0.0503 0.0115\n",
      "\n",
      "--------------------------------------------------------------------------------\n",
      "\n",
      "Cost at test theta (with lambda = 10): 3.206882\n",
      "\n",
      "Expected cost (approx): 3.16\n",
      "\n",
      "Gradient at test theta - first five values only:\n",
      " [0.3460450736792453, 0.16135191928091164, 0.19479575561199702, 0.22686278222504958, 0.0921856751032918] \n",
      "\n",
      "Expected gradients (approx) - first five values only:\n",
      " 0.3460 0.1614 0.1948 0.2269 0.0922\n",
      "\n"
     ]
    }
   ],
   "source": [
    "featX = mapFeature(X[:,0], X[:,1])\n",
    "\n",
    "# Initialize fitting parameters\n",
    "initial_theta = np.zeros(featX.shape[1])\n",
    "\n",
    "# Set regularization parameter lambda to 1\n",
    "lam = 1\n",
    "\n",
    "# Compute and display initial cost and gradient for regularized logistic regression\n",
    "cost, grad = costFunctionReg(initial_theta, featX, y, lam)\n",
    "\n",
    "print('Cost at initial theta (zeros): %f\\n' % cost)\n",
    "print('Expected cost (approx): 0.693\\n');\n",
    "print('Gradient at initial theta (zeros) - first five values only:')\n",
    "print(' %s \\n' % grad[:5])\n",
    "print('Expected gradients (approx) - first five values only:')\n",
    "print(' 0.0085 0.0188 0.0001 0.0503 0.0115\\n')\n",
    "\n",
    "print('-'*80);\n",
    "\n",
    "# Compute and display cost and gradient with all-ones theta and lambda = 10\n",
    "test_theta = np.ones(featX.shape[1])\n",
    "cost, grad = costFunctionReg(test_theta, featX, y, 10)\n",
    "\n",
    "print('\\nCost at test theta (with lambda = 10): %f\\n' % cost)\n",
    "print('Expected cost (approx): 3.16\\n')\n",
    "print('Gradient at test theta - first five values only:')\n",
    "print(' %s \\n' % grad[:5]);\n",
    "print('Expected gradients (approx) - first five values only:')\n",
    "print(' 0.3460 0.1614 0.1948 0.2269 0.0922\\n')\n"
   ]
  },
  {
   "cell_type": "markdown",
   "metadata": {},
   "source": [
    "### 2.3.1 Learning parameters using fmin\n",
    "Similar to the previous parts, we will use `fmin` to learn the optimal parameters θ."
   ]
  },
  {
   "cell_type": "code",
   "execution_count": 21,
   "metadata": {},
   "outputs": [],
   "source": [
    "# define cost as a partial function so that we can pass it to the optimization function\n",
    "def partial_cost_reg(X, y, lam=1):\n",
    "    def on(theta):\n",
    "        m = len(y)\n",
    "        hypo = hypothesis(X, theta)\n",
    "        costs = -y * np.log(hypo) - (1 - y) * np.log(1 - hypo) \n",
    "        penalties = 0.5 * lam * theta[1:]**2\n",
    "        return (sum(costs) + sum(penalties)) / m\n",
    "    return on"
   ]
  },
  {
   "cell_type": "code",
   "execution_count": 22,
   "metadata": {},
   "outputs": [
    {
     "name": "stdout",
     "output_type": "stream",
     "text": [
      "Optimization terminated successfully.\n",
      "         Current function value: 0.529003\n",
      "         Iterations: 47\n",
      "         Function evaluations: 1440\n",
      "         Gradient evaluations: 48\n",
      "[ 1.27268786  0.62557007  1.18096711 -2.0191986  -0.9176147  -1.43194246\n",
      "  0.12375984 -0.36513193 -0.35703522 -0.17485724 -1.45843825 -0.05129709\n",
      " -0.61604035 -0.27464221 -1.19282646 -0.24270291 -0.20570112 -0.04499853\n",
      " -0.27782721 -0.29525901 -0.45613388 -1.04377892  0.02762821 -0.2926565\n",
      "  0.01543377 -0.3275939  -0.14389211 -0.92460299]\n",
      "0.5358660236423983\n"
     ]
    }
   ],
   "source": [
    "# Initialize fitting parameters\n",
    "initial_theta = np.zeros(featX.shape[1])\n",
    "\n",
    "# Set regularization parameter lambda to 1 (you should vary this)\n",
    "lam = 1;\n",
    "\n",
    "pf = partial_cost_reg(featX, y, lam)\n",
    "\n",
    "theta = optimize.fmin_bfgs(pf, initial_theta)\n",
    "cost = cost_lr_reg(featX, y, theta, lam)\n",
    "print(theta)\n",
    "print(cost)"
   ]
  },
  {
   "cell_type": "code",
   "execution_count": 23,
   "metadata": {},
   "outputs": [
    {
     "name": "stdout",
     "output_type": "stream",
     "text": [
      "Train Accuracy: 83.051\n",
      "\n",
      "Expected accuracy (with lambda = 1): 83.1 (approx)\n",
      "\n"
     ]
    }
   ],
   "source": [
    "# Compute accuracy on our training set\n",
    "p = predict(theta, featX);\n",
    "\n",
    "print('Train Accuracy: %.3f\\n' % (np.mean(p == y) * 100));\n",
    "print('Expected accuracy (with lambda = 1): 83.1 (approx)\\n');"
   ]
  },
  {
   "cell_type": "markdown",
   "metadata": {},
   "source": [
    "## 2.4 Plotting the decision boundary\n",
    "To help visualize the model learned by this classifier, we use the function `plotDecisionBoundary` which plots the (non-linear) decision boundary that separates the positive and negative examples. In\n",
    "`plotDecisionBoundary`, we plot the non-linear decision boundary by computing the classifier’s predictions on an evenly spaced grid and then and drew a contour plot of where the predictions change from y = 0 to y = 1.\n",
    "\n",
    "After learning the parameters θ, we plot decision boundary in Figure 4."
   ]
  },
  {
   "cell_type": "code",
   "execution_count": 24,
   "metadata": {},
   "outputs": [],
   "source": [
    "def generateBoundary(X1, X2, n=500, border=0.001):    \n",
    "    space1 = np.linspace(np.min(X1), np.max(X1), n)\n",
    "    space2 = np.linspace(np.min(X2), np.max(X2), n)\n",
    "    xs = []\n",
    "    ys = []\n",
    "    for i in space1:\n",
    "        for j in space2:\n",
    "            x = mapFeature(i, j)\n",
    "            hypo = hypothesis(x, theta)\n",
    "            if hypo > (0.5 - border) and hypo < (0.5 + border): \n",
    "                xs.append(i)\n",
    "                ys.append(j)\n",
    "    return np.array(xs), np.array(ys)"
   ]
  },
  {
   "cell_type": "code",
   "execution_count": 25,
   "metadata": {
    "scrolled": true
   },
   "outputs": [
    {
     "data": {
      "text/plain": [
       "'Figure 4'"
      ]
     },
     "execution_count": 25,
     "metadata": {},
     "output_type": "execute_result"
    },
    {
     "data": {
      "image/png": "[encoded data removed]",
      "text/plain": [
       "<Figure size 432x432 with 1 Axes>"
      ]
     },
     "metadata": {
      "needs_background": "light"
     },
     "output_type": "display_data"
    }
   ],
   "source": [
    "def plotWithBoundary(X, title):\n",
    "    plt.figure(figsize=(6, 6))\n",
    "    xs, ys = generateBoundary(X[:, 0], X[:, 1])\n",
    "    plt.scatter(xs, ys, color='r', marker='.')\n",
    "    #plt.plot(xs[ys>0], ys[ys>0], color='r')\n",
    "    #plt.plot(xs[ys<=0], ys[ys<=0], color='r')\n",
    "    plotData(X, y)\n",
    "    plt.title('Decision Boundary (λ = %i)' % title)\n",
    "    plt.xlabel('Microchip Test 1')\n",
    "    plt.ylabel('Microchip Test 2')\n",
    "    return plt\n",
    "\n",
    "plotWithBoundary(X, 1)\n",
    "\"Figure 4\""
   ]
  },
  {
   "cell_type": "markdown",
   "metadata": {},
   "source": [
    "## 2.5 Optional (ungraded) exercises\n",
    "In this part of the exercise, we will try out different regularization parameters for the dataset to understand how regularization prevents overfitting.\n",
    "\n",
    "Notice the changes in the decision boundary as you vary λ. With a small λ, you should find that the classifier gets almost every training example correct, but draws a very complicated boundary, thus overfitting the data\n",
    "(Figure 5). This is not a good decision boundary: for example, it predicts that a point at x = (−0.25, 1.5) is accepted (y = 1), which seems to be an incorrect decision given the training set.\n",
    "\n",
    "With a larger λ, you should see a plot that shows an simpler decision boundary which still separates the positives and negatives fairly well. However, if λ is set to too high a value, you will not get a good fit and the decision\n",
    "boundary will not follow the data so well, thus underfitting the data (Figure 6)."
   ]
  },
  {
   "cell_type": "code",
   "execution_count": 26,
   "metadata": {},
   "outputs": [
    {
     "name": "stdout",
     "output_type": "stream",
     "text": [
      "Optimization terminated successfully.\n",
      "         Current function value: 0.305212\n",
      "         Iterations: 223\n",
      "         Function evaluations: 6720\n",
      "         Gradient evaluations: 224\n"
     ]
    },
    {
     "data": {
      "text/plain": [
       "'Figure 5 -  Too little regularization (Overfitting)'"
      ]
     },
     "execution_count": 26,
     "metadata": {},
     "output_type": "execute_result"
    },
    {
     "data": {
      "image/png": "[encoded data removed]",
      "text/plain": [
       "<Figure size 432x432 with 1 Axes>"
      ]
     },
     "metadata": {
      "needs_background": "light"
     },
     "output_type": "display_data"
    }
   ],
   "source": [
    "lam = 0.001;\n",
    "pf = partial_cost_reg(featX, y, lam)\n",
    "theta = optimize.fmin_bfgs(pf, initial_theta)\n",
    "plotWithBoundary(X, lam)\n",
    "\"Figure 5 -  Too little regularization (Overfitting)\""
   ]
  },
  {
   "cell_type": "code",
   "execution_count": 27,
   "metadata": {},
   "outputs": [
    {
     "name": "stdout",
     "output_type": "stream",
     "text": [
      "Optimization terminated successfully.\n",
      "         Current function value: 0.648216\n",
      "         Iterations: 21\n",
      "         Function evaluations: 660\n",
      "         Gradient evaluations: 22\n"
     ]
    },
    {
     "data": {
      "text/plain": [
       "'Figure 6 - Too much regularization (Underfitting)'"
      ]
     },
     "execution_count": 27,
     "metadata": {},
     "output_type": "execute_result"
    },
    {
     "data": {
      "image/png": "[encoded data removed]",
      "text/plain": [
       "<Figure size 432x432 with 1 Axes>"
      ]
     },
     "metadata": {
      "needs_background": "light"
     },
     "output_type": "display_data"
    }
   ],
   "source": [
    "lam = 10;\n",
    "pf = partial_cost_reg(featX, y, lam)\n",
    "theta = optimize.fmin_bfgs(pf, initial_theta)\n",
    "plotWithBoundary(X, lam)\n",
    "\"Figure 6 - Too much regularization (Underfitting)\""
   ]
  }
 ],
 "metadata": {
  "kernelspec": {
   "display_name": "Python 3",
   "language": "python",
   "name": "python3"
  },
  "language_info": {
   "codemirror_mode": {
    "name": "ipython",
    "version": 3
   },
   "file_extension": ".py",
   "mimetype": "text/x-python",
   "name": "python",
   "nbconvert_exporter": "python",
   "pygments_lexer": "ipython3",
   "version": "3.7.3"
  }
 },
 "nbformat": 4,
 "nbformat_minor": 2
}
