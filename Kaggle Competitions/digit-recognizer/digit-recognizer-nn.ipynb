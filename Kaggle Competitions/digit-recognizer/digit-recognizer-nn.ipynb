{
 "cells": [
  {
   "cell_type": "code",
   "execution_count": 1,
   "metadata": {},
   "outputs": [
    {
     "name": "stderr",
     "output_type": "stream",
     "text": [
      "Using TensorFlow backend.\n"
     ]
    },
    {
     "name": "stdout",
     "output_type": "stream",
     "text": [
      "2019-05-25 20:23:28.744842\n"
     ]
    }
   ],
   "source": [
    "import numpy as np\n",
    "import pandas as pd\n",
    "from keras import models, layers\n",
    "from keras.utils import to_categorical\n",
    "import datetime\n",
    "print(datetime.datetime.now())"
   ]
  },
  {
   "cell_type": "code",
   "execution_count": 2,
   "metadata": {},
   "outputs": [],
   "source": [
    "# import training dataset\n",
    "train = pd.read_csv('train.csv')\n",
    "y_train = train.label.copy()\n",
    "X_train = train.iloc[:, 1:].copy()"
   ]
  },
  {
   "cell_type": "code",
   "execution_count": 3,
   "metadata": {},
   "outputs": [],
   "source": [
    "# import test dataset\n",
    "X_test = pd.read_csv('test.csv')"
   ]
  },
  {
   "cell_type": "code",
   "execution_count": 4,
   "metadata": {},
   "outputs": [],
   "source": [
    "# Normalizing datasets\n",
    "X_train = X_train / 255.0\n",
    "X_test = X_test / 255.0\n",
    "# creating categorcial arrays for labels, ie, preparing the labels as arrays (for keras)\n",
    "Y_train = to_categorical(y_train)"
   ]
  },
  {
   "cell_type": "code",
   "execution_count": 5,
   "metadata": {},
   "outputs": [
    {
     "name": "stdout",
     "output_type": "stream",
     "text": [
      "WARNING:tensorflow:From /home/bitnami/programs/anaconda3/lib/python3.7/site-packages/tensorflow/python/framework/op_def_library.py:263: colocate_with (from tensorflow.python.framework.ops) is deprecated and will be removed in a future version.\n",
      "Instructions for updating:\n",
      "Colocations handled automatically by placer.\n"
     ]
    }
   ],
   "source": [
    "# the network architecture\n",
    "network = models.Sequential()\n",
    "network.add(layers.Dense(512, activation='relu', input_shape=(28*28,)))\n",
    "network.add(layers.Dense(10, activation='softmax'))\n",
    "# compile the network\n",
    "network.compile(optimizer='rmsprop', loss='categorical_crossentropy', metrics=['accuracy'])"
   ]
  },
  {
   "cell_type": "code",
   "execution_count": 6,
   "metadata": {},
   "outputs": [
    {
     "name": "stdout",
     "output_type": "stream",
     "text": [
      "WARNING:tensorflow:From /home/bitnami/programs/anaconda3/lib/python3.7/site-packages/tensorflow/python/ops/math_ops.py:3066: to_int32 (from tensorflow.python.ops.math_ops) is deprecated and will be removed in a future version.\n",
      "Instructions for updating:\n",
      "Use tf.cast instead.\n",
      "Epoch 1/5\n",
      "42000/42000 [==============================] - 3s 63us/step - loss: 0.2935 - acc: 0.9151\n",
      "Epoch 2/5\n",
      "42000/42000 [==============================] - 2s 51us/step - loss: 0.1230 - acc: 0.9636\n",
      "Epoch 3/5\n",
      "42000/42000 [==============================] - 2s 52us/step - loss: 0.0802 - acc: 0.9758\n",
      "Epoch 4/5\n",
      "42000/42000 [==============================] - 2s 51us/step - loss: 0.0580 - acc: 0.9830\n",
      "Epoch 5/5\n",
      "42000/42000 [==============================] - 2s 51us/step - loss: 0.0431 - acc: 0.9869\n",
      "CPU times: user 16.2 s, sys: 416 ms, total: 16.7 s\n",
      "Wall time: 11.5 s\n",
      "<keras.engine.sequential.Sequential object at 0x7f9ecf35c588>\n"
     ]
    }
   ],
   "source": [
    "# train the network\n",
    "%time network.fit(X_train, Y_train, epochs=5, batch_size=128)\n",
    "print(network)"
   ]
  },
  {
   "cell_type": "code",
   "execution_count": 7,
   "metadata": {},
   "outputs": [
    {
     "name": "stdout",
     "output_type": "stream",
     "text": [
      "42000/42000 [==============================] - 1s 34us/step\n",
      "Neural Network\n",
      "acc. on training set: 0.9915238095238095\n"
     ]
    }
   ],
   "source": [
    "train_loss, train_acc = network.evaluate(X_train, Y_train)\n",
    "\n",
    "print(\"Neural Network\")\n",
    "print(\"acc. on training set:\", train_acc)"
   ]
  },
  {
   "cell_type": "code",
   "execution_count": 8,
   "metadata": {},
   "outputs": [
    {
     "name": "stdout",
     "output_type": "stream",
     "text": [
      "[2, 0, 9, 9, 3, 7, 0, 3, 0, 3]\n"
     ]
    }
   ],
   "source": [
    "predicted_nn = network.predict(X_test)\n",
    "predicted_nn = [np.argmax(arr) for arr in predicted_nn]\n",
    "print(predicted_nn[0:10])"
   ]
  },
  {
   "cell_type": "code",
   "execution_count": 10,
   "metadata": {},
   "outputs": [],
   "source": [
    "# create a submission dataset\n",
    "index = np.arange(1, len(predicted_nn)+1)\n",
    "submission = pd.DataFrame({'ImageId':index, 'Label':predicted_nn})\n",
    "\n",
    "# export the dataset\n",
    "submission.to_csv('submission-nn.csv', index=False)"
   ]
  },
  {
   "cell_type": "code",
   "execution_count": 12,
   "metadata": {},
   "outputs": [
    {
     "name": "stdout",
     "output_type": "stream",
     "text": [
      "Warning: Your Kaggle API key is readable by other users on this system! To fix this, you can run 'chmod 600 /home/bitnami/.kaggle/kaggle.json'\n",
      "100%|█████████████████████████████████████████| 208k/208k [00:01<00:00, 212kB/s]\n",
      "Successfully submitted to Digit Recognizer"
     ]
    }
   ],
   "source": [
    "! kaggle competitions submit -f submission-nn.csv -m 'nn with keras' digit-recognizer"
   ]
  },
  {
   "cell_type": "code",
   "execution_count": null,
   "metadata": {},
   "outputs": [],
   "source": []
  }
 ],
 "metadata": {
  "kernelspec": {
   "display_name": "Python 3",
   "language": "python",
   "name": "python3"
  },
  "language_info": {
   "codemirror_mode": {
    "name": "ipython",
    "version": 3
   },
   "file_extension": ".py",
   "mimetype": "text/x-python",
   "name": "python",
   "nbconvert_exporter": "python",
   "pygments_lexer": "ipython3",
   "version": "3.7.3"
  }
 },
 "nbformat": 4,
 "nbformat_minor": 2
}
